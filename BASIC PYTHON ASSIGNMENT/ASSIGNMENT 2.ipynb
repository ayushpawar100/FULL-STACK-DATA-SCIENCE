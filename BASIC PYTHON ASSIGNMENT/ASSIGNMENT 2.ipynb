{
 "cells": [
  {
   "cell_type": "markdown",
   "metadata": {},
   "source": [
    "# 1. What are the Boolean data type&#39;s two values? How do you go about writing them?"
   ]
  },
  {
   "cell_type": "markdown",
   "metadata": {},
   "source": [
    "Ans:- \n",
    "\n",
    "    There are two values of Boolean data type's :-\n",
    "    1.True\n",
    "    2.False\n",
    "    \n",
    "    First letter of True and False is in upper case and remainings are in lower case."
   ]
  },
  {
   "cell_type": "code",
   "execution_count": null,
   "metadata": {},
   "outputs": [],
   "source": []
  },
  {
   "cell_type": "markdown",
   "metadata": {},
   "source": [
    "# 2. What are the three different types of Boolean operators?"
   ]
  },
  {
   "cell_type": "markdown",
   "metadata": {},
   "source": [
    "Ans:-\n",
    "    \n",
    "    There are three types of Boolean operators :-\n",
    "    1.and(&&)\n",
    "    2.or(||)\n",
    "    3.not(!)"
   ]
  },
  {
   "cell_type": "code",
   "execution_count": null,
   "metadata": {},
   "outputs": [],
   "source": []
  },
  {
   "cell_type": "markdown",
   "metadata": {},
   "source": [
    "# 3. Make a list of each Boolean operator&#39;s truth tables (i.e. every possible combination of Boolean values for the operator and what it evaluate )."
   ]
  },
  {
   "cell_type": "markdown",
   "metadata": {},
   "source": [
    "Ans:-\n",
    "    \n",
    "    For AND operator:-\n",
    "        \n",
    "       False and False  = Flase\n",
    "       False and True   = False\n",
    "       True  and False  = False\n",
    "       True  and True   = True\n",
    "       \n",
    "       \n",
    "    For OR operator :-\n",
    "    \n",
    "       False or False  = Flase\n",
    "       False or True   = True\n",
    "       True  or False  = True\n",
    "       True  or True   = True\n",
    "       \n",
    "     For NOT operator :-\n",
    "     \n",
    "        not True   =  False\n",
    "        not False  =  True\n",
    "       "
   ]
  },
  {
   "cell_type": "code",
   "execution_count": null,
   "metadata": {},
   "outputs": [],
   "source": []
  },
  {
   "cell_type": "markdown",
   "metadata": {},
   "source": [
    "# 4. What are the values of the following expressions?\n",
    "\n",
    "# (5 &gt; 4) and (3 == 5)\n",
    "# not (5 &gt; 4)\n",
    "# (5 &gt; 4) or (3 == 5)\n",
    "# not ((5 &gt; 4) or (3 == 5))\n",
    "# (True and True) and (True == False)\n",
    "# (not False) or (not True)"
   ]
  },
  {
   "cell_type": "markdown",
   "metadata": {},
   "source": [
    "Ans:-\n",
    "\n",
    "    (5 > 4) and (3 == 5) = False\n",
    "    \n",
    "    not (5 > 4) = False \n",
    "    \n",
    "    (5 > 4) or (3 == 5) = True\n",
    "    \n",
    "    not ((5 > 4) or (3 == 5)) = False\n",
    "    \n",
    "    (True and True) and (True == False) = False\n",
    "    \n",
    "    (not False) or (not True) = True\n",
    "    \n",
    "    "
   ]
  },
  {
   "cell_type": "code",
   "execution_count": null,
   "metadata": {},
   "outputs": [],
   "source": []
  },
  {
   "cell_type": "markdown",
   "metadata": {},
   "source": [
    "# 5. What are the six different types of reference operators?"
   ]
  },
  {
   "cell_type": "markdown",
   "metadata": {},
   "source": [
    "Ans:-\n",
    "    \n",
    "    There are six types of reference operators are following:-\n",
    "    \n",
    "        1.Arithmetic operators(+ , - , * , / , % , ** , //)\n",
    "        \n",
    "        2.Assignment operators(= , += , -= , *= , /= , >>= , <<=)\n",
    "        \n",
    "        3.Comparison operators(== , > , < , != , >= , <=)\n",
    "        \n",
    "        4.Logical operators(and , or , not)\n",
    "        \n",
    "        5.Identity operators(is , is not)\n",
    "        \n",
    "        6.Membership operators(in , not in)\n",
    "        \n",
    "        7.Bitwise operators(& , | , ~)"
   ]
  },
  {
   "cell_type": "code",
   "execution_count": null,
   "metadata": {},
   "outputs": [],
   "source": []
  },
  {
   "cell_type": "markdown",
   "metadata": {},
   "source": [
    "# 6. How do you tell the difference between the equal to and assignment operators?"
   ]
  },
  {
   "cell_type": "markdown",
   "metadata": {},
   "source": [
    "Ans:- \n",
    "    \n",
    "    equal to operator :- It is a comparision operator.It checks whether the both operands are equal or not.It is denoted by'=='\n",
    "    \n",
    "                            example:- xyz == xyz\n",
    "    \n",
    "    assignment operator :- Assignment operator is used for storing or assigning some value to a variable.\n",
    "    \n",
    "                            example:- x = 10"
   ]
  },
  {
   "cell_type": "code",
   "execution_count": null,
   "metadata": {},
   "outputs": [],
   "source": []
  },
  {
   "cell_type": "markdown",
   "metadata": {},
   "source": [
    "# 7. Describe a condition and when you would use one."
   ]
  },
  {
   "cell_type": "markdown",
   "metadata": {},
   "source": [
    "Ans:- \n",
    "    \n",
    "    A statement that controls the flow of execution to go futher is condition.In python we use keywords if ,elif ,else for \n",
    "    conditional statements.We use this when we have to do some computations or actions depending on conditions."
   ]
  },
  {
   "cell_type": "code",
   "execution_count": null,
   "metadata": {},
   "outputs": [],
   "source": []
  },
  {
   "cell_type": "markdown",
   "metadata": {},
   "source": [
    "# 8. Recognize the following three blocks in this code:\n",
    "\n",
    "spam = 0\n",
    "if spam == 10:\n",
    "print(&#39;eggs&#39;)\n",
    "\n",
    "if spam &gt; 5:\n",
    "print(&#39;bacon&#39;)\n",
    "else:\n",
    "print(&#39;ham&#39;)\n",
    "print(&#39;spam&#39;)\n",
    "print(&#39;spam&#39;) "
   ]
  },
  {
   "cell_type": "markdown",
   "metadata": {},
   "source": [
    "Ans:-\n",
    "\n",
    "        spam = 0\n",
    "\n",
    "        if spam == 10:\n",
    "\n",
    "            print('eggs')\n",
    "\n",
    "            if spam > 5:\n",
    "    \n",
    "                print('bacon')\n",
    "\n",
    "            else:\n",
    "\n",
    "                print('ham')\n",
    "            print('spam')\n",
    "         print('spam')\n",
    "\n",
    "\n",
    " output :- spam\n",
    "#It prints else block because both the if conditions are false. "
   ]
  },
  {
   "cell_type": "code",
   "execution_count": null,
   "metadata": {},
   "outputs": [],
   "source": []
  },
  {
   "cell_type": "markdown",
   "metadata": {},
   "source": [
    "# 9. Create a programme that prints. If 1 is stored in spam, prints Hello; if 2 is stored in spam, prints Howdy; and if 3 is stored in spam, prints Salutations! if there&#39;s something else in spam."
   ]
  },
  {
   "cell_type": "markdown",
   "metadata": {},
   "source": [
    "Ans:-\n",
    "    \n",
    "spam = 0\n",
    "\n",
    "if spam==1:\n",
    "    \n",
    "    print('Hello')\n",
    "\n",
    "if spam==2:\n",
    "    \n",
    "    print('Howdy')\n",
    "\n",
    "if spam==3:\n",
    "    \n",
    "    print('Salutations!')\n",
    "\n",
    "else:\n",
    "    \n",
    "    print(\"spam\")"
   ]
  },
  {
   "cell_type": "code",
   "execution_count": null,
   "metadata": {},
   "outputs": [],
   "source": []
  },
  {
   "cell_type": "markdown",
   "metadata": {},
   "source": [
    "# 10.If your programme is stuck in an endless loop, what keys can you press? "
   ]
  },
  {
   "cell_type": "markdown",
   "metadata": {},
   "source": [
    "Ans:- you can press 'CTRL + C'"
   ]
  },
  {
   "cell_type": "code",
   "execution_count": null,
   "metadata": {},
   "outputs": [],
   "source": []
  },
  {
   "cell_type": "markdown",
   "metadata": {},
   "source": [
    "# 11. How can you tell the difference between break and continue?"
   ]
  },
  {
   "cell_type": "markdown",
   "metadata": {},
   "source": [
    "Ans:\n",
    "    \n",
    "    Break :- We can use Break keyword to immediate terminate the whole loop.\n",
    "        \n",
    "    Continue :- We use Continue keyword to skip current iteration or terminate current iteration and resume with the next    \n",
    "                iteration of the loop."
   ]
  },
  {
   "cell_type": "code",
   "execution_count": null,
   "metadata": {},
   "outputs": [],
   "source": []
  },
  {
   "cell_type": "markdown",
   "metadata": {},
   "source": [
    "# 12. In a for loop, what is the difference between range(10), range(0, 10), and range(0, 10, 1)?"
   ]
  },
  {
   "cell_type": "markdown",
   "metadata": {},
   "source": [
    "Ans:-\n",
    "\n",
    "In for loop:-\n",
    "\n",
    "range(10) :- In this loop ,it iterates in range of (10) numbers = (0,1,2,3,4,5,6,7,8,9)\n",
    "\n",
    "range(0,10) :- In this loop ,it iterates in range (start = 0 , end = 10) = (0,1,2,3,4,5,6,7,8,9)\n",
    "\n",
    "range(0,10,1) :- In this loop ,it iterates in range (start = 0 , end = 10 , step = 1) = (0,1,2,3,4,5,6,7,8,9)\n",
    "\n",
    "\n",
    "#By default range function take 0 as starting number and it stops before specified number as we have given here is 10."
   ]
  },
  {
   "cell_type": "code",
   "execution_count": null,
   "metadata": {},
   "outputs": [],
   "source": []
  },
  {
   "cell_type": "markdown",
   "metadata": {},
   "source": [
    "# 13. Using a for loop, write a short programme that prints the numbers 1 to 10 Then, using a while loop, create an identical programme that prints the numbers 1 to 10."
   ]
  },
  {
   "cell_type": "markdown",
   "metadata": {},
   "source": [
    "Ans:-"
   ]
  },
  {
   "cell_type": "code",
   "execution_count": 28,
   "metadata": {},
   "outputs": [
    {
     "name": "stdout",
     "output_type": "stream",
     "text": [
      "1\n",
      "2\n",
      "3\n",
      "4\n",
      "5\n",
      "6\n",
      "7\n",
      "8\n",
      "9\n",
      "10\n"
     ]
    }
   ],
   "source": [
    "#FOR LOOP\n",
    "\n",
    "for i in range(1,11): \n",
    "    print(i)"
   ]
  },
  {
   "cell_type": "code",
   "execution_count": 31,
   "metadata": {},
   "outputs": [
    {
     "name": "stdout",
     "output_type": "stream",
     "text": [
      "1\n",
      "2\n",
      "3\n",
      "4\n",
      "5\n",
      "6\n",
      "7\n",
      "8\n",
      "9\n",
      "10\n"
     ]
    }
   ],
   "source": [
    "#WHILE LOOP\n",
    "\n",
    "i=1\n",
    "while(i<11):\n",
    "    print(i)\n",
    "    i += 1"
   ]
  },
  {
   "cell_type": "code",
   "execution_count": null,
   "metadata": {},
   "outputs": [],
   "source": []
  },
  {
   "cell_type": "markdown",
   "metadata": {},
   "source": [
    "# 14. If you had a bacon() function within a spam module, how would you call it after importing spam?"
   ]
  },
  {
   "cell_type": "markdown",
   "metadata": {},
   "source": [
    "Ans:- you can call it by writting - spam.bacon()"
   ]
  },
  {
   "cell_type": "code",
   "execution_count": null,
   "metadata": {},
   "outputs": [],
   "source": []
  }
 ],
 "metadata": {
  "kernelspec": {
   "display_name": "Python 3",
   "language": "python",
   "name": "python3"
  },
  "language_info": {
   "codemirror_mode": {
    "name": "ipython",
    "version": 3
   },
   "file_extension": ".py",
   "mimetype": "text/x-python",
   "name": "python",
   "nbconvert_exporter": "python",
   "pygments_lexer": "ipython3",
   "version": "3.7.1"
  }
 },
 "nbformat": 4,
 "nbformat_minor": 2
}
