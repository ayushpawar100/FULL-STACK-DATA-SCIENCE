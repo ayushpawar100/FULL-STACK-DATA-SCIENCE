{
 "cells": [
  {
   "cell_type": "markdown",
   "metadata": {},
   "source": [
    "# ASSIGNMENT 11"
   ]
  },
  {
   "cell_type": "markdown",
   "metadata": {},
   "source": [
    "# 1. Write a Python program to find words which are greater than given length k?"
   ]
  },
  {
   "cell_type": "code",
   "execution_count": 23,
   "metadata": {},
   "outputs": [
    {
     "name": "stdout",
     "output_type": "stream",
     "text": [
      "Enter length : 3\n",
      "Elements greater than length  3 : ['raju', 'very', 'good', 'boy']\n"
     ]
    }
   ],
   "source": [
    "l = \"raju is a very good boy\"\n",
    "k = int(input(\"Enter length : \"))\n",
    "m = []\n",
    "for i in (l.split()):\n",
    "    if(len(i)>=k):\n",
    "        m.append(i)\n",
    "print(\"Elements greater than length \",k,\":\",m)    "
   ]
  },
  {
   "cell_type": "code",
   "execution_count": null,
   "metadata": {},
   "outputs": [],
   "source": []
  },
  {
   "cell_type": "markdown",
   "metadata": {},
   "source": [
    "# 2. Write a Python program for removing i-th character from a string?"
   ]
  },
  {
   "cell_type": "code",
   "execution_count": 18,
   "metadata": {},
   "outputs": [
    {
     "name": "stdout",
     "output_type": "stream",
     "text": [
      "Enter character index number which you want to remove : 3\n",
      "\n",
      "After removing string is : beatiful\n"
     ]
    }
   ],
   "source": [
    "s = \"beautiful\"\n",
    "i = int(input(\"Enter character index number which you want to remove : \"))\n",
    "\n",
    "s = s[:i] + s[i+1:]\n",
    "print(\"\\nAfter removing string is :\",s)"
   ]
  },
  {
   "cell_type": "code",
   "execution_count": null,
   "metadata": {},
   "outputs": [],
   "source": []
  },
  {
   "cell_type": "markdown",
   "metadata": {},
   "source": [
    "# 3. Write a Python program to split and join a string?"
   ]
  },
  {
   "cell_type": "code",
   "execution_count": 24,
   "metadata": {},
   "outputs": [
    {
     "name": "stdout",
     "output_type": "stream",
     "text": [
      "After split and join operation :  This-is-a-python-basic-programming-assignment\n"
     ]
    }
   ],
   "source": [
    "s = \"This is a python basic programming assignment\"\n",
    "\n",
    "l = s.split()\n",
    "l = ('-').join(l)\n",
    "\n",
    "print(\"After split and join operation : \",l)"
   ]
  },
  {
   "cell_type": "code",
   "execution_count": null,
   "metadata": {},
   "outputs": [],
   "source": []
  },
  {
   "cell_type": "markdown",
   "metadata": {},
   "source": [
    "# 4. Write a Python to check if a given string is binary string or not?"
   ]
  },
  {
   "cell_type": "code",
   "execution_count": 18,
   "metadata": {},
   "outputs": [
    {
     "name": "stdout",
     "output_type": "stream",
     "text": [
      "Yes,its a binary string\n"
     ]
    }
   ],
   "source": [
    "s = '000'\n",
    "s = set(s)\n",
    "\n",
    "t = {'0','1'}\n",
    "     \n",
    "if s==t or s == {'0'} or s=={'1'}:\n",
    "     print(\"Yes,its a binary string\")\n",
    "else:\n",
    "     print(\"No,its not a binary string\")"
   ]
  },
  {
   "cell_type": "code",
   "execution_count": null,
   "metadata": {},
   "outputs": [],
   "source": []
  },
  {
   "cell_type": "markdown",
   "metadata": {},
   "source": [
    "# 5. Write a Python program to find uncommon words from two Strings?"
   ]
  },
  {
   "cell_type": "code",
   "execution_count": 45,
   "metadata": {},
   "outputs": [
    {
     "name": "stdout",
     "output_type": "stream",
     "text": [
      "\n"
     ]
    }
   ],
   "source": [
    "s1 = \"my name is ayush\"\n",
    "s2 = \"your name is piyush\"\n",
    "\n",
    "lst1 = s1.split()\n",
    "lst2 = s2.split()\n",
    "\n",
    "uncommon =\"\"\n",
    "\n",
    "for i in lst1:\n",
    "    if i not in lst2:\n",
    "        uncommon = uncommon+\" \"+i+\" ,\"\n",
    "        \n",
    "print()\n",
    "for i in lst2:\n",
    "    if i not in lst1:\n",
    "        uncommon = uncommon+\" \"+i+\" ,\"\n"
   ]
  },
  {
   "cell_type": "code",
   "execution_count": 44,
   "metadata": {},
   "outputs": [
    {
     "data": {
      "text/plain": [
       "' my, ayush, your, piyush,'"
      ]
     },
     "execution_count": 44,
     "metadata": {},
     "output_type": "execute_result"
    }
   ],
   "source": [
    "uncommon"
   ]
  },
  {
   "cell_type": "code",
   "execution_count": null,
   "metadata": {},
   "outputs": [],
   "source": []
  },
  {
   "cell_type": "markdown",
   "metadata": {},
   "source": [
    "# 6. Write a Python to find all duplicate characters in string?"
   ]
  },
  {
   "cell_type": "code",
   "execution_count": 11,
   "metadata": {},
   "outputs": [
    {
     "name": "stdout",
     "output_type": "stream",
     "text": [
      "Duplicate characters in string are : \n",
      "r\n",
      "t\n",
      "i\n",
      "s\n",
      "e\n"
     ]
    }
   ],
   "source": [
    "string = \"Great responsibility\"\n",
    "s = set(string)\n",
    "d = \"\"\n",
    "\n",
    "print(\"Duplicate characters in string are : \")\n",
    "for i in s:\n",
    "    count = 0\n",
    "    for j in string:\n",
    "        if i == j and i!=' ':\n",
    "            count += 1\n",
    "    if(count>1):\n",
    "        print(i)"
   ]
  },
  {
   "cell_type": "code",
   "execution_count": null,
   "metadata": {},
   "outputs": [],
   "source": []
  },
  {
   "cell_type": "markdown",
   "metadata": {},
   "source": [
    "# 7. Write a Python Program to check if a string contains any special character?"
   ]
  },
  {
   "cell_type": "code",
   "execution_count": 13,
   "metadata": {},
   "outputs": [
    {
     "name": "stdout",
     "output_type": "stream",
     "text": [
      "yes,special character is present in string\n"
     ]
    }
   ],
   "source": [
    "s = \"https://www.google.com/\"\n",
    "l = ['~','`','!','@','#','$','%','^','&','*','(',')','_','-','{','}','[',']',';','<','>','?','/',',','.']\n",
    "for i in s:\n",
    "    if i in l:\n",
    "        print(\"yes,special character is present in string\")\n",
    "        break\n",
    "    "
   ]
  },
  {
   "cell_type": "code",
   "execution_count": null,
   "metadata": {},
   "outputs": [],
   "source": []
  }
 ],
 "metadata": {
  "kernelspec": {
   "display_name": "Python 3",
   "language": "python",
   "name": "python3"
  },
  "language_info": {
   "codemirror_mode": {
    "name": "ipython",
    "version": 3
   },
   "file_extension": ".py",
   "mimetype": "text/x-python",
   "name": "python",
   "nbconvert_exporter": "python",
   "pygments_lexer": "ipython3",
   "version": "3.7.1"
  }
 },
 "nbformat": 4,
 "nbformat_minor": 2
}
