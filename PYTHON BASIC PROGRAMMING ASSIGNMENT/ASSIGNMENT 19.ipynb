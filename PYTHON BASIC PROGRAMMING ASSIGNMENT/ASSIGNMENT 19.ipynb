{
 "cells": [
  {
   "cell_type": "markdown",
   "metadata": {},
   "source": [
    "# ASSIGNMENT 19"
   ]
  },
  {
   "cell_type": "markdown",
   "metadata": {},
   "source": [
    "# Question1\n",
    "\n",
    "Create a function that takes a string and returns a string in which each character is repeated once.\n",
    "\n",
    "Examples\n",
    "\n",
    "double_char(&quot;String&quot;) ➞ &quot;SSttrriinngg&quot;\n",
    "\n",
    "double_char(&quot;Hello World!&quot;) ➞ &quot;HHeelllloo WWoorrlldd!!&quot;\n",
    "\n",
    "double_char(&quot;1234!_ &quot;) ➞ &quot;11223344!!__ &quot;"
   ]
  },
  {
   "cell_type": "code",
   "execution_count": 14,
   "metadata": {},
   "outputs": [],
   "source": [
    "def double_char(S):\n",
    "    l = []\n",
    "    for i in S:\n",
    "        l.append(i*2)\n",
    "    \n",
    "    s =\"\"\n",
    "    for i in l:\n",
    "        s += i\n",
    "    \n",
    "    return s"
   ]
  },
  {
   "cell_type": "code",
   "execution_count": 17,
   "metadata": {},
   "outputs": [
    {
     "name": "stdout",
     "output_type": "stream",
     "text": [
      "double_char(\"String\") ->  SSttrriinngg\n",
      "\n",
      "double_char(\"Hello World!\") ->  HHeelllloo  WWoorrlldd!!\n",
      "\n",
      "double_char(\"1234!_ \") ->  11223344!!__  \n"
     ]
    }
   ],
   "source": [
    "print('double_char(\"String\") -> ',double_char(\"String\"))\n",
    "print()\n",
    "print('double_char(\"Hello World!\") -> ',double_char(\"Hello World!\"))\n",
    "print()\n",
    "print('double_char(\"1234!_ \") -> ',double_char(\"1234!_ \"))"
   ]
  },
  {
   "cell_type": "code",
   "execution_count": null,
   "metadata": {},
   "outputs": [],
   "source": []
  },
  {
   "cell_type": "markdown",
   "metadata": {},
   "source": [
    "# Question2\n",
    "\n",
    "Create a function that reverses a boolean value and returns the string &quot;boolean expected&quot; if another variable type is given.\n",
    "\n",
    "Examples\n",
    "\n",
    "reverse(True) ➞ False\n",
    "\n",
    "reverse(False) ➞ True\n",
    "\n",
    "reverse(0) ➞ &quot;boolean expected&quot;\n",
    "\n",
    "reverse(None) ➞ &quot;boolean expected&quot;"
   ]
  },
  {
   "cell_type": "code",
   "execution_count": 23,
   "metadata": {},
   "outputs": [],
   "source": [
    "def reverse(boolean):\n",
    "    if type(boolean) == bool:\n",
    "        return not boolean\n",
    "    else:\n",
    "        return \"boolean expected\""
   ]
  },
  {
   "cell_type": "code",
   "execution_count": 28,
   "metadata": {},
   "outputs": [
    {
     "name": "stdout",
     "output_type": "stream",
     "text": [
      "reverse(True) ->  False\n",
      "\n",
      "reverse(False) ->  True\n",
      "\n",
      "reverse(False) ->  boolean expected\n",
      "\n",
      "reverse(None) ->  boolean expected\n"
     ]
    }
   ],
   "source": [
    "print(\"reverse(True) -> \",reverse(True))\n",
    "print()\n",
    "print(\"reverse(False) -> \",reverse(False))\n",
    "print()\n",
    "print(\"reverse(False) -> \",reverse(0))\n",
    "print()\n",
    "print(\"reverse(None) -> \",reverse(None))"
   ]
  },
  {
   "cell_type": "code",
   "execution_count": null,
   "metadata": {},
   "outputs": [],
   "source": []
  },
  {
   "cell_type": "markdown",
   "metadata": {},
   "source": [
    "# Question3\n",
    "\n",
    "Create a function that returns the thickness (in meters) of a piece of paper after folding it n number of times. The paper starts off with a thickness of 0.5mm.\n",
    "\n",
    "Examples\n",
    "\n",
    "num_layers(1) ➞ &quot;0.001m&quot;\n",
    "\n",
    "#Paper folded once is 1mm (equal to 0.001m)\n",
    "\n",
    "num_layers(4) ➞ &quot;0.008m&quot;\n",
    "\n",
    "#Paper folded 4 times is 8mm (equal to 0.008m)\n",
    "\n",
    "num_layers(21) ➞ &quot;1048.576m&quot;\n",
    "\n",
    "#Paper folded 21 times is 1048576mm (equal to 1048.576m)"
   ]
  },
  {
   "cell_type": "code",
   "execution_count": 12,
   "metadata": {},
   "outputs": [],
   "source": [
    "# 2**n(no.of times)*0.5(thickness in mm)*0.001m(to convert in meters)\n",
    "def num_layers(n):\n",
    "    s = str((2**n)*0.5*0.001)+\"m\"\n",
    "    return s"
   ]
  },
  {
   "cell_type": "code",
   "execution_count": 14,
   "metadata": {},
   "outputs": [
    {
     "name": "stdout",
     "output_type": "stream",
     "text": [
      "num_layers(1) ->  0.001m\n",
      "\n",
      "num_layers(4) ->  0.008m\n",
      "\n",
      "num_layers(21) ->  1048.576m\n"
     ]
    }
   ],
   "source": [
    "print(\"num_layers(1) -> \",num_layers(1))\n",
    "print()\n",
    "print(\"num_layers(4) -> \",num_layers(4))\n",
    "print()\n",
    "print(\"num_layers(21) -> \",num_layers(21))"
   ]
  },
  {
   "cell_type": "code",
   "execution_count": null,
   "metadata": {},
   "outputs": [],
   "source": []
  },
  {
   "cell_type": "markdown",
   "metadata": {},
   "source": [
    "# Question4\n",
    "Create a function that takes a single string as argument and returns an ordered list containing the indices of all capital letters in the string.\n",
    "\n",
    "Examples\n",
    "\n",
    "index_of_caps(&quot;eDaBiT&quot;) ➞ [1, 3, 5]\n",
    "\n",
    "index_of_caps(&quot;eQuINoX&quot;) ➞ [1, 3, 4, 6]\n",
    "\n",
    "index_of_caps(&quot;determine&quot;) ➞ []\n",
    "\n",
    "index_of_caps(&quot;STRIKE&quot;) ➞ [0, 1, 2, 3, 4, 5]\n",
    "\n",
    "index_of_caps(&quot;sUn&quot;) ➞ [1]"
   ]
  },
  {
   "cell_type": "code",
   "execution_count": 15,
   "metadata": {},
   "outputs": [],
   "source": [
    "def index_of_caps(s):\n",
    "    l = []\n",
    "    for i in range(len(s)):\n",
    "        if s[i].isupper():\n",
    "            l.append(i)\n",
    "    return l    "
   ]
  },
  {
   "cell_type": "code",
   "execution_count": 17,
   "metadata": {},
   "outputs": [
    {
     "name": "stdout",
     "output_type": "stream",
     "text": [
      "index_of_caps(\"eDaBiT\") ->  [1, 3, 5]\n",
      "\n",
      "index_of_caps(\"eQuINoX\") ->  [1, 3, 4, 6]\n",
      "\n",
      "index_of_caps(\"determine\") ->  []\n",
      "\n",
      "index_of_caps(\"STRIKE\") ->  [0, 1, 2, 3, 4, 5]\n",
      "\n",
      "index_of_caps(\"sUn\") ->  [1]\n"
     ]
    }
   ],
   "source": [
    "print('index_of_caps(\"eDaBiT\") -> ',index_of_caps(\"eDaBiT\"))\n",
    "print()\n",
    "print('index_of_caps(\"eQuINoX\") -> ',index_of_caps(\"eQuINoX\"))\n",
    "print()\n",
    "print('index_of_caps(\"determine\") -> ',index_of_caps(\"determine\"))\n",
    "print()\n",
    "print('index_of_caps(\"STRIKE\") -> ',index_of_caps(\"STRIKE\"))\n",
    "print()\n",
    "print('index_of_caps(\"sUn\") -> ',index_of_caps(\"sUn\"))"
   ]
  },
  {
   "cell_type": "code",
   "execution_count": null,
   "metadata": {},
   "outputs": [],
   "source": []
  },
  {
   "cell_type": "markdown",
   "metadata": {},
   "source": [
    "# Question5\n",
    "Using list comprehensions, create a function that finds all even numbers from 1 to the given number.\n",
    "\n",
    "Examples\n",
    "\n",
    "find_even_nums(8) ➞ [2, 4, 6, 8]\n",
    "\n",
    "find_even_nums(4) ➞ [2, 4]\n",
    "\n",
    "find_even_nums(2) ➞ [2]"
   ]
  },
  {
   "cell_type": "code",
   "execution_count": 25,
   "metadata": {},
   "outputs": [],
   "source": [
    "def find_even_nums(n):\n",
    "    return [i for i in range(1,n+1) if i%2==0 ]"
   ]
  },
  {
   "cell_type": "code",
   "execution_count": 26,
   "metadata": {},
   "outputs": [
    {
     "name": "stdout",
     "output_type": "stream",
     "text": [
      "find_even_nums(8) ->  [2, 4, 6, 8]\n",
      "\n",
      "find_even_nums(4) ->  [2, 4]\n",
      "\n",
      "find_even_nums(2) ->  [2]\n"
     ]
    }
   ],
   "source": [
    "print(\"find_even_nums(8) -> \",find_even_nums(8))\n",
    "print()\n",
    "print(\"find_even_nums(4) -> \",find_even_nums(4))\n",
    "print()\n",
    "print(\"find_even_nums(2) -> \",find_even_nums(2))"
   ]
  },
  {
   "cell_type": "code",
   "execution_count": null,
   "metadata": {},
   "outputs": [],
   "source": []
  },
  {
   "cell_type": "code",
   "execution_count": null,
   "metadata": {},
   "outputs": [],
   "source": []
  }
 ],
 "metadata": {
  "kernelspec": {
   "display_name": "Python 3",
   "language": "python",
   "name": "python3"
  },
  "language_info": {
   "codemirror_mode": {
    "name": "ipython",
    "version": 3
   },
   "file_extension": ".py",
   "mimetype": "text/x-python",
   "name": "python",
   "nbconvert_exporter": "python",
   "pygments_lexer": "ipython3",
   "version": "3.7.1"
  }
 },
 "nbformat": 4,
 "nbformat_minor": 2
}
