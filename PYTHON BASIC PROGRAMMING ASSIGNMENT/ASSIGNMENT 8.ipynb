{
 "cells": [
  {
   "cell_type": "markdown",
   "metadata": {},
   "source": [
    "# ASSIGNMENT 8"
   ]
  },
  {
   "cell_type": "markdown",
   "metadata": {},
   "source": [
    "# 1. Write a Python Program to Add Two Matrices?"
   ]
  },
  {
   "cell_type": "code",
   "execution_count": 6,
   "metadata": {},
   "outputs": [],
   "source": [
    "import numpy as np"
   ]
  },
  {
   "cell_type": "code",
   "execution_count": 83,
   "metadata": {},
   "outputs": [],
   "source": [
    "l1 = np.array([[1,2,3],[3,4,5]])\n",
    "l2 = np.array([[1,2,3],[3,4,5]])\n",
    "\n",
    "l3 = l1 + l2"
   ]
  },
  {
   "cell_type": "code",
   "execution_count": 84,
   "metadata": {},
   "outputs": [
    {
     "data": {
      "text/plain": [
       "array([[ 2,  4,  6],\n",
       "       [ 6,  8, 10]])"
      ]
     },
     "execution_count": 84,
     "metadata": {},
     "output_type": "execute_result"
    }
   ],
   "source": [
    "l3"
   ]
  },
  {
   "cell_type": "code",
   "execution_count": null,
   "metadata": {},
   "outputs": [],
   "source": []
  },
  {
   "cell_type": "markdown",
   "metadata": {},
   "source": [
    "# 2. Write a Python Program to Multiply Two Matrices?"
   ]
  },
  {
   "cell_type": "code",
   "execution_count": 2,
   "metadata": {},
   "outputs": [],
   "source": [
    "import numpy as np"
   ]
  },
  {
   "cell_type": "code",
   "execution_count": 11,
   "metadata": {},
   "outputs": [],
   "source": [
    "def multiply(arr1,arr2,r1,c1,r2,c2):\n",
    "    arr3 = np.empty((r1,c2),int)\n",
    "    \n",
    "    for i in range(r1):\n",
    "        for j in range(c2):\n",
    "            sum1 = 0\n",
    "            for k in range(c1):\n",
    "                sum1 = sum1 + (arr1[i][k] * arr2[k][j])\n",
    "            arr3[i][j] = sum1\n",
    "    return arr3\n",
    "        \n",
    "    "
   ]
  },
  {
   "cell_type": "code",
   "execution_count": 14,
   "metadata": {},
   "outputs": [
    {
     "name": "stdout",
     "output_type": "stream",
     "text": [
      "Enter a number of rows for matrix first : 2\n",
      "Enter a number of column for matrix first : 3\n",
      "enter a element : 1\n",
      "enter a element : 2\n",
      "enter a element : 3\n",
      "enter a element : 4\n",
      "enter a element : 5\n",
      "enter a element : 6\n",
      "Enter a number of rows for matrix second : 3\n",
      "Enter a number of column for matrix second : 2\n",
      "enter a element : 1\n",
      "enter a element : 2\n",
      "enter a element : 3\n",
      "enter a element : 4\n",
      "enter a element : 5\n",
      "enter a element : 6\n",
      "\n",
      "matrix first is : \n",
      "[[1 2 3]\n",
      " [4 5 6]]\n",
      "\n",
      "matrix second is : \n",
      "[[1 2]\n",
      " [3 4]\n",
      " [5 6]]\n",
      "\n",
      "After multiplication : \n",
      "[[22 28]\n",
      " [49 64]]\n"
     ]
    }
   ],
   "source": [
    "#Here first matix creation:\n",
    "r1 = int(input(\"Enter a number of rows for matrix first : \"))\n",
    "c1 = int(input(\"Enter a number of column for matrix first : \"))\n",
    "arr1 = []\n",
    "for i in range(r1*c1):\n",
    "    arr1.append(int(input(\"enter a element : \")))\n",
    "    \n",
    "arr1 = np.array(arr1).reshape(r1,c1)\n",
    "\n",
    "#second matrix creation :\n",
    "r2 = int(input(\"Enter a number of rows for matrix second : \"))\n",
    "c2 = int(input(\"Enter a number of column for matrix second : \"))\n",
    "\n",
    "\n",
    "arr2 = []\n",
    "for j in range(r2*c2):\n",
    "    arr2.append(int(input(\"enter a element : \")))\n",
    "    \n",
    "arr2 = np.array(arr2).reshape(r2,c2)\n",
    "\n",
    "print()\n",
    "\n",
    "print(\"matrix first is : \")\n",
    "print(arr1)\n",
    "print()\n",
    "\n",
    "print(\"matrix second is : \")\n",
    "print(arr2)\n",
    "print()\n",
    "\n",
    "\n",
    "#For matirx multiplication we call funtion\n",
    "if(c1 == r2):\n",
    "    arr3 = multiply(arr1,arr2,r1,c1,r2,c2)\n",
    "    print(\"After multiplication : \")\n",
    "    print(arr3)\n",
    "else:\n",
    "    print(\"!!!!!.........Invalid input..............!!!!\")\n",
    "    print()\n",
    "    print(\"column of matrix first must be equal to row of second matrix \")"
   ]
  },
  {
   "cell_type": "code",
   "execution_count": null,
   "metadata": {},
   "outputs": [],
   "source": []
  },
  {
   "cell_type": "markdown",
   "metadata": {},
   "source": [
    "# 3. Write a Python Program to Transpose a Matrix?"
   ]
  },
  {
   "cell_type": "code",
   "execution_count": 3,
   "metadata": {},
   "outputs": [],
   "source": [
    "import numpy as np"
   ]
  },
  {
   "cell_type": "code",
   "execution_count": 14,
   "metadata": {},
   "outputs": [],
   "source": [
    "def array(r,c):\n",
    "    lst = []\n",
    "    for i in range(r*c):\n",
    "        lst.append(int(input(\"Enter element : \")))\n",
    "    \n",
    "    return np.array(lst).reshape(r,c)\n",
    "\n",
    "\n",
    "def display(arr):\n",
    "    return arr\n",
    "    "
   ]
  },
  {
   "cell_type": "code",
   "execution_count": 25,
   "metadata": {},
   "outputs": [
    {
     "name": "stdout",
     "output_type": "stream",
     "text": [
      "Enter no of rows : 3\n",
      "Enter no of columns : 3\n",
      "Enter element : 1\n",
      "Enter element : 2\n",
      "Enter element : 3\n",
      "Enter element : 4\n",
      "Enter element : 5\n",
      "Enter element : 6\n",
      "Enter element : 7\n",
      "Enter element : 8\n",
      "Enter element : 9\n",
      "\n",
      "Before : \n",
      "[[1 2 3]\n",
      " [4 5 6]\n",
      " [7 8 9]]\n",
      "\n",
      "After : \n",
      "[[1 4 7]\n",
      " [2 5 8]\n",
      " [3 6 9]]\n"
     ]
    }
   ],
   "source": [
    "#This transpose of matrix is only for square matrix\n",
    "\n",
    "r = int(input(\"Enter no of rows : \"))\n",
    "c = int(input(\"Enter no of columns : \"))\n",
    "\n",
    "arr1 = array(r,c)\n",
    "print()\n",
    "print(\"Before : \")\n",
    "print(display(arr1))\n",
    "\n",
    "for i in range(r):\n",
    "    for j in range(c):\n",
    "        if(i<=j):\n",
    "            temp = arr1[i][j]\n",
    "            arr1[i][j] = arr1[j][i]\n",
    "            arr1[j][i] = temp\n",
    "            \n",
    "print()\n",
    "print(\"After : \")\n",
    "print(display(arr1))\n",
    "        "
   ]
  },
  {
   "cell_type": "code",
   "execution_count": null,
   "metadata": {},
   "outputs": [],
   "source": []
  },
  {
   "cell_type": "markdown",
   "metadata": {},
   "source": [
    "# 4. Write a Python Program to Sort Words in Alphabetic Order?"
   ]
  },
  {
   "cell_type": "code",
   "execution_count": 34,
   "metadata": {},
   "outputs": [],
   "source": [
    "word = \"Hello, Here i am doing python basic programming assignment \"\n",
    "word = word.lower()\n",
    "l = word.split()\n",
    "l.sort()\n",
    "\n",
    "s = \"\"\n",
    "for i in l:\n",
    "    s = s +\" \"+i"
   ]
  },
  {
   "cell_type": "code",
   "execution_count": 35,
   "metadata": {},
   "outputs": [
    {
     "data": {
      "text/plain": [
       "' am assignment basic doing hello, here i programming python'"
      ]
     },
     "execution_count": 35,
     "metadata": {},
     "output_type": "execute_result"
    }
   ],
   "source": [
    "s"
   ]
  },
  {
   "cell_type": "code",
   "execution_count": null,
   "metadata": {},
   "outputs": [],
   "source": []
  },
  {
   "cell_type": "markdown",
   "metadata": {},
   "source": [
    "# 5. Write a Python Program to Remove Punctuation From a String?"
   ]
  },
  {
   "cell_type": "code",
   "execution_count": 38,
   "metadata": {},
   "outputs": [],
   "source": [
    "string = \"Hurray..!!, we won ----- the match....\"\n",
    "\n",
    "l = ['~','`','!','@','#','$','%','^','&','*','(',')','_','-','+','=','{','}',':',';','\"',\"'\",'<',',','>','.','?','/','[','[']\n",
    "s = \"\"\n",
    "for i in string:\n",
    "    if i in l:\n",
    "        continue\n",
    "    s = s+i"
   ]
  },
  {
   "cell_type": "code",
   "execution_count": 39,
   "metadata": {},
   "outputs": [
    {
     "data": {
      "text/plain": [
       "'Hurray we won  the match'"
      ]
     },
     "execution_count": 39,
     "metadata": {},
     "output_type": "execute_result"
    }
   ],
   "source": [
    "s"
   ]
  },
  {
   "cell_type": "code",
   "execution_count": null,
   "metadata": {},
   "outputs": [],
   "source": []
  },
  {
   "cell_type": "code",
   "execution_count": null,
   "metadata": {},
   "outputs": [],
   "source": []
  }
 ],
 "metadata": {
  "kernelspec": {
   "display_name": "Python 3",
   "language": "python",
   "name": "python3"
  }
 },
 "nbformat": 4,
 "nbformat_minor": 2
}
