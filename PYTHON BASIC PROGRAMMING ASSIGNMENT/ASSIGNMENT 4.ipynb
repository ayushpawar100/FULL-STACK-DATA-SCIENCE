{
 "cells": [
  {
   "cell_type": "markdown",
   "metadata": {},
   "source": [
    "# ASSIGNMENT 4"
   ]
  },
  {
   "cell_type": "markdown",
   "metadata": {},
   "source": [
    "# 1. Write a Python Program to Find the Factorial of a Number?"
   ]
  },
  {
   "cell_type": "code",
   "execution_count": 9,
   "metadata": {},
   "outputs": [
    {
     "name": "stdout",
     "output_type": "stream",
     "text": [
      "Enter a number : 15\n",
      "Factorial of 15 is : 1307674368000\n"
     ]
    }
   ],
   "source": [
    "num = int(input(\"Enter a number : \"))\n",
    "fact = 1\n",
    "for i in range(num):\n",
    "    fact = fact * (num-i);\n",
    "    \n",
    "print(\"Factorial of {} is : {}\".format(num,fact))"
   ]
  },
  {
   "cell_type": "code",
   "execution_count": null,
   "metadata": {},
   "outputs": [],
   "source": []
  },
  {
   "cell_type": "markdown",
   "metadata": {},
   "source": [
    "# 2. Write a Python Program to Display the multiplication Table?"
   ]
  },
  {
   "cell_type": "code",
   "execution_count": 12,
   "metadata": {},
   "outputs": [
    {
     "name": "stdout",
     "output_type": "stream",
     "text": [
      "Enter a number : 10\n",
      "10\n",
      "20\n",
      "30\n",
      "40\n",
      "50\n",
      "60\n",
      "70\n",
      "80\n",
      "90\n",
      "100\n"
     ]
    }
   ],
   "source": [
    "num = int(input(\"Enter a number : \"))\n",
    "\n",
    "for i in range(1,11):\n",
    "    table = num *i\n",
    "    print(table)"
   ]
  },
  {
   "cell_type": "code",
   "execution_count": null,
   "metadata": {},
   "outputs": [],
   "source": []
  },
  {
   "cell_type": "markdown",
   "metadata": {},
   "source": [
    "# 3. Write a Python Program to Print the Fibonacci sequence?"
   ]
  },
  {
   "cell_type": "code",
   "execution_count": 14,
   "metadata": {},
   "outputs": [
    {
     "name": "stdout",
     "output_type": "stream",
     "text": [
      "Enter number of sequence you want : 10\n",
      "0\n",
      "1\n",
      "1\n",
      "2\n",
      "3\n",
      "5\n",
      "8\n",
      "13\n",
      "21\n",
      "34\n"
     ]
    }
   ],
   "source": [
    "num = int(input(\"Enter number of sequence you want : \"))\n",
    "a = 0\n",
    "b = 1\n",
    "for i in range(num):\n",
    "    print(a)\n",
    "    sum = a + b\n",
    "    a = b\n",
    "    b = sum"
   ]
  },
  {
   "cell_type": "code",
   "execution_count": null,
   "metadata": {},
   "outputs": [],
   "source": []
  },
  {
   "cell_type": "markdown",
   "metadata": {},
   "source": [
    "# 4. Write a Python Program to Check Armstrong Number?"
   ]
  },
  {
   "cell_type": "code",
   "execution_count": 13,
   "metadata": {},
   "outputs": [
    {
     "name": "stdout",
     "output_type": "stream",
     "text": [
      "Enter a num : 568\n",
      "568 is not a Armstrong number \n"
     ]
    }
   ],
   "source": [
    "num = int(input(\"Enter a num : \"))\n",
    "y = num\n",
    "x = num \n",
    "count =0\n",
    "\n",
    "#number of digit in num\n",
    "while(x>0):\n",
    "    count = count + 1\n",
    "    x = int(x/10)\n",
    "\n",
    "#armstring operation\n",
    "sum = 0\n",
    "while(y>0):\n",
    "    a = y%10\n",
    "    sum = sum + ((a)**count)\n",
    "    y = int(y/10)\n",
    "    \n",
    "if(sum == num):\n",
    "    print(\"{} is a Armstrong number \".format(num))\n",
    "else:\n",
    "    print(\"{} is not a Armstrong number \".format(num))\n"
   ]
  },
  {
   "cell_type": "code",
   "execution_count": null,
   "metadata": {},
   "outputs": [],
   "source": []
  },
  {
   "cell_type": "markdown",
   "metadata": {},
   "source": [
    "# 5. Write a Python Program to Find Armstrong Number in an Interval?"
   ]
  },
  {
   "cell_type": "code",
   "execution_count": 5,
   "metadata": {},
   "outputs": [
    {
     "name": "stdout",
     "output_type": "stream",
     "text": [
      "Enter first num : 1\n",
      "Enter second num : 2000\n"
     ]
    },
    {
     "data": {
      "text/plain": [
       "[1, 2, 3, 4, 5, 6, 7, 8, 9, 153, 370, 371, 407, 1634]"
      ]
     },
     "execution_count": 5,
     "metadata": {},
     "output_type": "execute_result"
    }
   ],
   "source": [
    "num1 = int(input(\"Enter first num : \"))\n",
    "num2 = int(input(\"Enter second num : \"))\n",
    "l=[]\n",
    "\n",
    "if(num1>=num2):\n",
    "    print(\"Invalid input\")\n",
    "else:\n",
    "    for i in range(num1,num2):\n",
    "        #number of digit in num\n",
    "        x = i \n",
    "        count=0\n",
    "        while(x>0):\n",
    "            count = count + 1\n",
    "            x = int(x/10)\n",
    "\n",
    "        #armstrong operation\n",
    "        y = i\n",
    "        sum = 0\n",
    "        while(y>0):\n",
    "            a = y%10\n",
    "            sum = sum + ((a)**count)\n",
    "            y = int(y/10)\n",
    "        \n",
    "        if(sum == i):\n",
    "            l.append(i)\n",
    "        #else:\n",
    "        #print(\"{} is not a Armstrong number \".format(num))\n",
    "l\n"
   ]
  },
  {
   "cell_type": "code",
   "execution_count": null,
   "metadata": {},
   "outputs": [],
   "source": []
  },
  {
   "cell_type": "markdown",
   "metadata": {},
   "source": [
    "# 6. Write a Python Program to Find the Sum of Natural Numbers?"
   ]
  },
  {
   "cell_type": "code",
   "execution_count": 12,
   "metadata": {},
   "outputs": [
    {
     "name": "stdout",
     "output_type": "stream",
     "text": [
      "Enter a number : 10\n",
      "sum : 55.0\n"
     ]
    }
   ],
   "source": [
    "num = int(input(\"Enter a number : \"))\n",
    "sum = 0\n",
    "\n",
    "#formula for calculating sum of natural number.\n",
    "# (n * (n-1))/2\n",
    "\n",
    "sum = (num*(num + 1))/2 \n",
    "    \n",
    "print(\"sum :\",sum)"
   ]
  },
  {
   "cell_type": "code",
   "execution_count": null,
   "metadata": {},
   "outputs": [],
   "source": []
  }
 ],
 "metadata": {
  "kernelspec": {
   "display_name": "Python 3",
   "language": "python",
   "name": "python3"
  }
 },
 "nbformat": 4,
 "nbformat_minor": 2
}
