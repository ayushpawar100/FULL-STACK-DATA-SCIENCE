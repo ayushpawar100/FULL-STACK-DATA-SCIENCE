{
 "cells": [
  {
   "cell_type": "markdown",
   "id": "5d6a5585",
   "metadata": {},
   "source": [
    "#   ASSIGNMENT - 7"
   ]
  },
  {
   "cell_type": "markdown",
   "id": "db297331",
   "metadata": {},
   "source": [
    "# 1. Write a function that counts how many concentric layers a rug.\n",
    "\n",
    "# Example :- \n",
    "\n",
    "# count_layers([\n",
    "# AAAA,\n",
    "# ABBA,\n",
    "# AAAA\n",
    "# ]) ➞ 2\n"
   ]
  },
  {
   "cell_type": "code",
   "execution_count": 5,
   "id": "a3ac488b",
   "metadata": {},
   "outputs": [],
   "source": [
    "def count_layers(pattern):\n",
    "    return (((len(pattern))//2)+1)\n",
    "    "
   ]
  },
  {
   "cell_type": "code",
   "execution_count": 6,
   "id": "623b9273",
   "metadata": {},
   "outputs": [
    {
     "data": {
      "text/plain": [
       "2"
      ]
     },
     "execution_count": 6,
     "metadata": {},
     "output_type": "execute_result"
    }
   ],
   "source": [
    "count_layers([\n",
    "\"AAAA\",\n",
    "\"ABBA\",\n",
    "\"AAAA\"\n",
    "])"
   ]
  },
  {
   "cell_type": "code",
   "execution_count": 7,
   "id": "99c7ae63",
   "metadata": {},
   "outputs": [
    {
     "data": {
      "text/plain": [
       "3"
      ]
     },
     "execution_count": 7,
     "metadata": {},
     "output_type": "execute_result"
    }
   ],
   "source": [
    "count_layers([\n",
    "\"AAAAAAAAA\",\n",
    "\"ABBBBBBBA\",\n",
    "\"ABBAAABBA\",\n",
    "\"ABBBBBBBA\",\n",
    "\"AAAAAAAAA\"\n",
    "])"
   ]
  },
  {
   "cell_type": "code",
   "execution_count": 8,
   "id": "b252a82b",
   "metadata": {},
   "outputs": [
    {
     "data": {
      "text/plain": [
       "5"
      ]
     },
     "execution_count": 8,
     "metadata": {},
     "output_type": "execute_result"
    }
   ],
   "source": [
    "count_layers([\n",
    "\"AAAAAAAAAAA\",\n",
    "\"AABBBBBBBAA\",\n",
    "\"AABCCCCCBAA\",\n",
    "\"AABCAAACBAA\",\n",
    "\"AABCADACBAA\",\n",
    "\"AABCAAACBAA\",\n",
    "\"AABCCCCCBAA\",\n",
    "\"AABBBBBBBAA\",\n",
    "\"AAAAAAAAAAA\"\n",
    "])"
   ]
  },
  {
   "cell_type": "code",
   "execution_count": null,
   "id": "42ee93aa",
   "metadata": {},
   "outputs": [],
   "source": []
  },
  {
   "cell_type": "markdown",
   "id": "6a3ccdf9",
   "metadata": {},
   "source": [
    "# 2. There are many different styles of music and many albums exhibit multiple styles. Create a function that takes a list of musical styles from albums and returns how many styles are unique.\n",
    "\n",
    "# Example :-\n",
    "\n",
    "# unique_styles([\n",
    "# \"Dub,Dancehall\",\n",
    "# \"Industrial,Heavy Metal\",\n",
    "# \"Techno,Dubstep\",\n",
    "# \"Synth-pop,Euro-Disco\",\n",
    "# \"Industrial,Techno,Minimal\"\n",
    "# ]) ➞ 9"
   ]
  },
  {
   "cell_type": "code",
   "execution_count": 22,
   "id": "44bd4711",
   "metadata": {},
   "outputs": [],
   "source": [
    "def unique_styles(list_music_and_albums):\n",
    "    lst = []\n",
    "    \n",
    "    for i in list_music_and_albums:\n",
    "        a = i.split(sep=\",\")\n",
    "        lst.extend(a)\n",
    "    \n",
    "    return len(set(lst))"
   ]
  },
  {
   "cell_type": "code",
   "execution_count": 23,
   "id": "78fcb8fd",
   "metadata": {},
   "outputs": [
    {
     "data": {
      "text/plain": [
       "9"
      ]
     },
     "execution_count": 23,
     "metadata": {},
     "output_type": "execute_result"
    }
   ],
   "source": [
    "unique_styles([\"Dub,Dancehall\",\n",
    "\"Industrial,Heavy Metal\",\n",
    "\"Techno,Dubstep\",\n",
    "\"Synth-pop,Euro-Disco\",\n",
    "\"Industrial,Techno,Minimal\"\n",
    "])"
   ]
  },
  {
   "cell_type": "code",
   "execution_count": 24,
   "id": "aac4f87a",
   "metadata": {},
   "outputs": [
    {
     "data": {
      "text/plain": [
       "7"
      ]
     },
     "execution_count": 24,
     "metadata": {},
     "output_type": "execute_result"
    }
   ],
   "source": [
    "unique_styles([\"Soul\",\n",
    "\"House,Folk\",\n",
    "\"Trance,Downtempo,Big Beat,House\",\n",
    "\"Deep House\",\n",
    "\"Soul\"])"
   ]
  },
  {
   "cell_type": "code",
   "execution_count": null,
   "id": "04f4f3d4",
   "metadata": {},
   "outputs": [],
   "source": []
  },
  {
   "cell_type": "markdown",
   "id": "d2a75667",
   "metadata": {},
   "source": [
    "# 3. Create a function that finds a target number in a list of prime numbers. Implement a binary search algorithm in your function. The target number will be from 2 through 97. If the target is prime then return \"yes\" else return \"no\".\n",
    "\n",
    "# Examples\n",
    "# primes = [2, 3, 5, 7, 11, 13, 17, 19, 23, 29, 31, 37, 41, 43, 47, 53, 59, 61, 67, 71, 73, 79, 83, 89, 97]\n",
    "\n",
    "# is_prime(primes, 3) ➞ \"yes\"\n",
    "# is_prime(primes, 4) ➞ \"no\"\n",
    "# is_prime(primes, 67) ➞ \"yes\"\n",
    "# is_prime(primes, 36) ➞ \"no\""
   ]
  },
  {
   "cell_type": "code",
   "execution_count": 27,
   "id": "8d6d2d42",
   "metadata": {},
   "outputs": [],
   "source": [
    "def is_prime(primes,n):\n",
    "    if n in primes:\n",
    "        \n",
    "        if n==0 or n==1:\n",
    "            return \"no\"\n",
    "\n",
    "        if n==2 or n==3:\n",
    "            return \"yes\"\n",
    "\n",
    "        if n%2==0 or n%3==0:\n",
    "            return \"no\"\n",
    "\n",
    "        i = 5\n",
    "        while(i*i<=n):\n",
    "            if(n%i==0 and n%(i+2)==0):\n",
    "                return \"no\"\n",
    "\n",
    "            i = i + 6\n",
    "\n",
    "        return \"yes\"\n",
    "    else:\n",
    "        return \"no\"\n",
    "\n",
    "\n",
    "        \n",
    "    "
   ]
  },
  {
   "cell_type": "code",
   "execution_count": 28,
   "id": "77e999a6",
   "metadata": {},
   "outputs": [
    {
     "data": {
      "text/plain": [
       "'yes'"
      ]
     },
     "execution_count": 28,
     "metadata": {},
     "output_type": "execute_result"
    }
   ],
   "source": [
    "primes = [2, 3, 5, 7, 11, 13, 17, 19, 23, 29, 31, 37, 41, 43, 47, 53, 59, 61, 67, 71, 73, 79, 83, 89, 97]\n",
    "\n",
    "is_prime(primes,3)"
   ]
  },
  {
   "cell_type": "code",
   "execution_count": 29,
   "id": "b10d1de0",
   "metadata": {},
   "outputs": [
    {
     "data": {
      "text/plain": [
       "'no'"
      ]
     },
     "execution_count": 29,
     "metadata": {},
     "output_type": "execute_result"
    }
   ],
   "source": [
    "is_prime(primes,4)"
   ]
  },
  {
   "cell_type": "code",
   "execution_count": 30,
   "id": "0a34ce8b",
   "metadata": {},
   "outputs": [
    {
     "data": {
      "text/plain": [
       "'yes'"
      ]
     },
     "execution_count": 30,
     "metadata": {},
     "output_type": "execute_result"
    }
   ],
   "source": [
    "is_prime(primes,67)"
   ]
  },
  {
   "cell_type": "code",
   "execution_count": 32,
   "id": "06f7e4c3",
   "metadata": {},
   "outputs": [
    {
     "data": {
      "text/plain": [
       "'no'"
      ]
     },
     "execution_count": 32,
     "metadata": {},
     "output_type": "execute_result"
    }
   ],
   "source": [
    "is_prime(primes,36)"
   ]
  },
  {
   "cell_type": "code",
   "execution_count": null,
   "id": "df75dc49",
   "metadata": {},
   "outputs": [],
   "source": []
  },
  {
   "cell_type": "markdown",
   "id": "b3fcee70",
   "metadata": {},
   "source": [
    "# 4. Create a function that takes in n, a, b and returns the number of positive values raised to the nth power that lie in the range [a, b], inclusive.\n",
    "\n",
    "# Examples\n",
    "# power_ranger(2, 49, 65) ➞ 2\n",
    "# 2 squares (n^2) lie between 49 and 65, 49 (7^2) and 64 (8^2)"
   ]
  },
  {
   "cell_type": "code",
   "execution_count": 116,
   "id": "c76e67bc",
   "metadata": {},
   "outputs": [],
   "source": [
    "def power_ranger(a,b,c):\n",
    "    x = int(b**(1/a))\n",
    "    y = int(c**(1/a))\n",
    "    \n",
    "    ran = list(range(b,c+1))\n",
    "    count = 0\n",
    "    \n",
    "    for i in range(x,y+1):\n",
    "        if pow(i,a) in ran:\n",
    "            count += 1\n",
    "            \n",
    "    return count\n",
    "            \n",
    "    "
   ]
  },
  {
   "cell_type": "code",
   "execution_count": 117,
   "id": "dd8137c3",
   "metadata": {},
   "outputs": [
    {
     "data": {
      "text/plain": [
       "2"
      ]
     },
     "execution_count": 117,
     "metadata": {},
     "output_type": "execute_result"
    }
   ],
   "source": [
    "power_ranger(2, 49, 65)"
   ]
  },
  {
   "cell_type": "code",
   "execution_count": 118,
   "id": "5a3e1d8a",
   "metadata": {},
   "outputs": [
    {
     "data": {
      "text/plain": [
       "3"
      ]
     },
     "execution_count": 118,
     "metadata": {},
     "output_type": "execute_result"
    }
   ],
   "source": [
    "power_ranger(3,1,27)"
   ]
  },
  {
   "cell_type": "code",
   "execution_count": 119,
   "id": "7b83ddc9",
   "metadata": {},
   "outputs": [
    {
     "data": {
      "text/plain": [
       "1"
      ]
     },
     "execution_count": 119,
     "metadata": {},
     "output_type": "execute_result"
    }
   ],
   "source": [
    "power_ranger(10, 1, 5)"
   ]
  },
  {
   "cell_type": "code",
   "execution_count": 120,
   "id": "4f9f776a",
   "metadata": {},
   "outputs": [
    {
     "data": {
      "text/plain": [
       "1"
      ]
     },
     "execution_count": 120,
     "metadata": {},
     "output_type": "execute_result"
    }
   ],
   "source": [
    "power_ranger(5, 31, 33)"
   ]
  },
  {
   "cell_type": "code",
   "execution_count": 121,
   "id": "4bd259a1",
   "metadata": {},
   "outputs": [
    {
     "data": {
      "text/plain": [
       "3"
      ]
     },
     "execution_count": 121,
     "metadata": {},
     "output_type": "execute_result"
    }
   ],
   "source": [
    "power_ranger(4, 250, 1300)"
   ]
  },
  {
   "cell_type": "code",
   "execution_count": null,
   "id": "1915126e",
   "metadata": {},
   "outputs": [],
   "source": []
  },
  {
   "cell_type": "markdown",
   "id": "5eb0f48f",
   "metadata": {},
   "source": [
    "# 5. Given a number, return the difference between the maximum and minimum numbers that can be formed when the digits are rearranged.\n",
    "\n",
    "# Examples\n",
    "# rearranged_difference(972882) ➞ 760833\n",
    "# 988722 - 227889 = 760833"
   ]
  },
  {
   "cell_type": "code",
   "execution_count": 135,
   "id": "6a18761a",
   "metadata": {},
   "outputs": [],
   "source": [
    "def rearranged_difference(num):\n",
    "    a = sorted(str(num))\n",
    "    min1 = \"\"\n",
    "    for i in a:\n",
    "        min1 += i\n",
    "        \n",
    "    max1 = \"\"\n",
    "    for i in a[::-1]:\n",
    "        max1 += i\n",
    "        \n",
    "    return (int(max1) - int(min1))\n",
    "    \n",
    "    \n",
    "    "
   ]
  },
  {
   "cell_type": "code",
   "execution_count": 136,
   "id": "dcbfa3d3",
   "metadata": {},
   "outputs": [
    {
     "data": {
      "text/plain": [
       "760833"
      ]
     },
     "execution_count": 136,
     "metadata": {},
     "output_type": "execute_result"
    }
   ],
   "source": [
    "rearranged_difference(972882)"
   ]
  },
  {
   "cell_type": "code",
   "execution_count": 137,
   "id": "3061bc8b",
   "metadata": {},
   "outputs": [
    {
     "data": {
      "text/plain": [
       "7709823"
      ]
     },
     "execution_count": 137,
     "metadata": {},
     "output_type": "execute_result"
    }
   ],
   "source": [
    "rearranged_difference(3320707)"
   ]
  },
  {
   "cell_type": "code",
   "execution_count": 138,
   "id": "76fdc920",
   "metadata": {},
   "outputs": [
    {
     "data": {
      "text/plain": [
       "90981"
      ]
     },
     "execution_count": 138,
     "metadata": {},
     "output_type": "execute_result"
    }
   ],
   "source": [
    "rearranged_difference(90010)"
   ]
  },
  {
   "cell_type": "code",
   "execution_count": null,
   "id": "5d844f34",
   "metadata": {},
   "outputs": [],
   "source": []
  }
 ],
 "metadata": {
  "kernelspec": {
   "display_name": "Python 3",
   "language": "python",
   "name": "python3"
  },
  "language_info": {
   "codemirror_mode": {
    "name": "ipython",
    "version": 3
   },
   "file_extension": ".py",
   "mimetype": "text/x-python",
   "name": "python",
   "nbconvert_exporter": "python",
   "pygments_lexer": "ipython3",
   "version": "3.8.8"
  }
 },
 "nbformat": 4,
 "nbformat_minor": 5
}
