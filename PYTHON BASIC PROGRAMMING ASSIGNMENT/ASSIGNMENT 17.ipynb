{
 "cells": [
  {
   "cell_type": "markdown",
   "metadata": {},
   "source": [
    "# ASSIGNMENT 17"
   ]
  },
  {
   "cell_type": "markdown",
   "metadata": {},
   "source": [
    "# Question1.\n",
    "Create a function that takes three arguments a, b, c and returns the sum of the\n",
    " numbers that are evenly divided by c from the range a, b inclusive.\n",
    "\n",
    "Examples\n",
    "\n",
    "evenly_divisible(1, 10, 20) ➞ 0\n",
    "\n",
    "#No number between 1 and 10 can be evenly divided by 20.\n",
    "\n",
    "evenly_divisible(1, 10, 2) ➞ 30\n",
    "\n",
    "#2 + 4 + 6 + 8 + 10 = 30\n",
    "\n",
    "evenly_divisible(1, 10, 3) ➞ 18\n",
    "\n",
    "#3 + 6 + 9 = 18"
   ]
  },
  {
   "cell_type": "code",
   "execution_count": 1,
   "metadata": {},
   "outputs": [],
   "source": [
    "def evenly_divisible(a,b,c):\n",
    "    sum = 0\n",
    "    for i in range(a,b+1):\n",
    "        if i%c==0:\n",
    "            sum = sum + i\n",
    "    return sum    "
   ]
  },
  {
   "cell_type": "code",
   "execution_count": 6,
   "metadata": {},
   "outputs": [
    {
     "name": "stdout",
     "output_type": "stream",
     "text": [
      "evenly_divisible(1, 10, 20) ->  0\n",
      "\n",
      "evenly_divisible(1, 10, 2) ->  30\n",
      "\n",
      "evenly_divisible(1, 10, 3) ->  18\n"
     ]
    }
   ],
   "source": [
    "print(\"evenly_divisible(1, 10, 20) -> \",evenly_divisible(1, 10, 20))\n",
    "print()\n",
    "print(\"evenly_divisible(1, 10, 2) -> \",evenly_divisible(1, 10, 2))\n",
    "print()\n",
    "print(\"evenly_divisible(1, 10, 3) -> \",evenly_divisible(1, 10, 3))"
   ]
  },
  {
   "cell_type": "code",
   "execution_count": null,
   "metadata": {},
   "outputs": [],
   "source": []
  },
  {
   "cell_type": "markdown",
   "metadata": {},
   "source": [
    "# Question2.\n",
    "\n",
    "Create a function that returns True if a given inequality expression is correct and False otherwise.\n",
    "\n",
    "Examples\n",
    "\n",
    "correct_signs(&quot;3 &lt; 7 &lt; 11&quot;) ➞ True\n",
    "\n",
    "correct_signs(&quot;13 &gt; 44 &gt; 33 &gt; 1&quot;) ➞ False\n",
    "\n",
    "correct_signs(&quot;1 &lt; 2 &lt; 6 &lt; 9 &gt; 3&quot;) ➞ True"
   ]
  },
  {
   "cell_type": "code",
   "execution_count": 4,
   "metadata": {},
   "outputs": [],
   "source": [
    "def correct_signs(s):\n",
    "    if eval(s):\n",
    "        return True\n",
    "    else :\n",
    "        return False"
   ]
  },
  {
   "cell_type": "code",
   "execution_count": 9,
   "metadata": {},
   "outputs": [
    {
     "name": "stdout",
     "output_type": "stream",
     "text": [
      "correct_signs (\"3 < 7 < 11\") ->  True\n",
      "\n",
      "correct_signs (\"13 > 44 > 33 > 1\") ->  False\n",
      "\n",
      "correct_signs (\"1 < 2 < 6 < 9 > 3\") ->  True\n"
     ]
    }
   ],
   "source": [
    "print('correct_signs (\"3 < 7 < 11\") -> ',correct_signs(\"3 < 7 < 11\"))\n",
    "print()\n",
    "print('correct_signs (\"13 > 44 > 33 > 1\") -> ',correct_signs(\"13 > 44 > 33 > 1\"))\n",
    "print()\n",
    "print('correct_signs (\"1 < 2 < 6 < 9 > 3\") -> ',correct_signs(\"1 < 2 < 6 < 9 > 3\"))"
   ]
  },
  {
   "cell_type": "code",
   "execution_count": null,
   "metadata": {},
   "outputs": [],
   "source": []
  },
  {
   "cell_type": "markdown",
   "metadata": {},
   "source": [
    "# Question3. \n",
    "\n",
    "Create a function that replaces all the vowels in a string with a specified character.\n",
    "\n",
    "Examples\n",
    "\n",
    "replace_vowels(&quot;the aardvark&quot;, &quot;#&quot;) ➞ &quot;th# ##rdv#rk&quot;\n",
    "\n",
    "replace_vowels(&quot;minnie mouse&quot;, &quot;?&quot;) ➞ &quot;m?nn?? m??s?&quot;\n",
    "\n",
    "replace_vowels(&quot;shakespeare&quot;, &quot;*&quot;) ➞ &quot;sh*k*sp**r*&quot;"
   ]
  },
  {
   "cell_type": "code",
   "execution_count": 65,
   "metadata": {},
   "outputs": [],
   "source": [
    "def replace_vowels(s,c):\n",
    "    l = ['A','a','E','e','I','i','O','o','U','u']\n",
    "    string = \"\"\n",
    "    for i in s:\n",
    "        if i in l:\n",
    "            string = string + c\n",
    "        else:\n",
    "            string = string + i\n",
    "            \n",
    "    return string"
   ]
  },
  {
   "cell_type": "code",
   "execution_count": 72,
   "metadata": {},
   "outputs": [
    {
     "name": "stdout",
     "output_type": "stream",
     "text": [
      "replace_vowels(\"the aardvark\", \"#\") ->  th# ##rdv#rk\n",
      "replace_vowels(\"minnie mouse\", \"?\") ->  m?nn?? m??s?\n",
      "replace_vowels(\"shakespeare\", \"\") ->  shkspr\n"
     ]
    }
   ],
   "source": [
    "print('replace_vowels(\"the aardvark\", \"#\") -> ',replace_vowels(\"the aardvark\", \"#\"))\n",
    "print('replace_vowels(\"minnie mouse\", \"?\") -> ',replace_vowels(\"minnie mouse\", \"?\"))\n",
    "print('replace_vowels(\"shakespeare\", \"\") -> ',replace_vowels(\"shakespeare\", \"\"))"
   ]
  },
  {
   "cell_type": "code",
   "execution_count": null,
   "metadata": {},
   "outputs": [],
   "source": []
  },
  {
   "cell_type": "markdown",
   "metadata": {},
   "source": [
    "# Question4. \n",
    "Write a function that calculates the factorial of a number recursively.\n",
    "\n",
    "Examples\n",
    "\n",
    "factorial(5) ➞ 120\n",
    "\n",
    "factorial(3) ➞ 6\n",
    "\n",
    "factorial(1) ➞ 1\n",
    "\n",
    "factorial(0) ➞ 1"
   ]
  },
  {
   "cell_type": "code",
   "execution_count": 73,
   "metadata": {},
   "outputs": [],
   "source": [
    "def factorial(n):\n",
    "    if (n<=0):\n",
    "        return 1\n",
    "    \n",
    "    return n * factorial(n-1)"
   ]
  },
  {
   "cell_type": "code",
   "execution_count": 76,
   "metadata": {},
   "outputs": [
    {
     "name": "stdout",
     "output_type": "stream",
     "text": [
      "factorial(5) ->  120\n",
      "\n",
      "factorial(3) ->  6\n",
      "\n",
      "factorial(1) ->  1\n",
      "\n",
      "factorial(0) ->  1\n"
     ]
    }
   ],
   "source": [
    "print(\"factorial(5) -> \",factorial(5))\n",
    "print()\n",
    "print(\"factorial(3) -> \",factorial(3))\n",
    "print()\n",
    "print(\"factorial(1) -> \",factorial(1))\n",
    "print()\n",
    "print(\"factorial(0) -> \",factorial(0))"
   ]
  },
  {
   "cell_type": "code",
   "execution_count": null,
   "metadata": {},
   "outputs": [],
   "source": []
  },
  {
   "cell_type": "markdown",
   "metadata": {},
   "source": [
    "# Question 5\n",
    "\n",
    "Hamming distance is the number of characters that differ between two strings.\n",
    "\n",
    "To illustrate:\n",
    "\n",
    "String1: &quot;abcbba&quot;\n",
    "\n",
    "String2: &quot;abcbda&quot;\n",
    "\n",
    "Hamming Distance: 1 - &quot;b&quot; vs. &quot;d&quot; is the only difference.\n",
    "\n",
    "Create a function that computes the hamming distance between two strings.\n",
    "\n",
    "Examples\n",
    "\n",
    "hamming_distance(&quot;abcde&quot;, &quot;bcdef&quot;) ➞ 5\n",
    "\n",
    "hamming_distance(&quot;abcde&quot;, &quot;abcde&quot;) ➞ 0\n",
    "\n",
    "hamming_distance(&quot;strong&quot;, &quot;strung&quot;) ➞ 1\n"
   ]
  },
  {
   "cell_type": "code",
   "execution_count": 79,
   "metadata": {},
   "outputs": [],
   "source": [
    "def hamming_distance(s1,s2):\n",
    "    sum = 0\n",
    "    for i in range(len(s1)):\n",
    "        if s1[i]!=s2[i]:\n",
    "            sum = sum + 1\n",
    "    return sum\n",
    "        "
   ]
  },
  {
   "cell_type": "code",
   "execution_count": 86,
   "metadata": {},
   "outputs": [
    {
     "name": "stdout",
     "output_type": "stream",
     "text": [
      "hamming_distance(\"abcde\", \"bcdef\") ->  5\n",
      "\n",
      "hamming_distance(\"abcde\", \"abcde\") ->  0\n",
      "\n",
      "hamming_distance(\"strong\", \"strung\") ->  1\n"
     ]
    }
   ],
   "source": [
    "print('hamming_distance(\"abcde\", \"bcdef\") -> ',hamming_distance(\"abcde\", \"bcdef\"))\n",
    "print()\n",
    "print('hamming_distance(\"abcde\", \"abcde\") -> ',hamming_distance(\"abcde\", \"abcde\"))\n",
    "print()\n",
    "print('hamming_distance(\"strong\", \"strung\") -> ',hamming_distance(\"strong\", \"strung\"))"
   ]
  },
  {
   "cell_type": "code",
   "execution_count": null,
   "metadata": {},
   "outputs": [],
   "source": []
  }
 ],
 "metadata": {
  "kernelspec": {
   "display_name": "Python 3",
   "language": "python",
   "name": "python3"
  },
  "language_info": {
   "codemirror_mode": {
    "name": "ipython",
    "version": 3
   },
   "file_extension": ".py",
   "mimetype": "text/x-python",
   "name": "python",
   "nbconvert_exporter": "python",
   "pygments_lexer": "ipython3",
   "version": "3.7.1"
  }
 },
 "nbformat": 4,
 "nbformat_minor": 2
}
