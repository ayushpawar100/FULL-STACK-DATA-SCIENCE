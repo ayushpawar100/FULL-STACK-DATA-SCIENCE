{
 "cells": [
  {
   "cell_type": "markdown",
   "metadata": {},
   "source": [
    "# ASSIGNMENT 16"
   ]
  },
  {
   "cell_type": "markdown",
   "metadata": {},
   "source": [
    "# Question1.\n",
    "Write a function that stutters a word as if someone is struggling to read it. The\n",
    "\n",
    "first two letters are repeated twice with an ellipsis ... and space after each, and then the\n",
    "\n",
    "word is pronounced with a question mark ?.\n",
    "\n",
    "Examples\n",
    "\n",
    "stutter(&quot;incredible&quot;) ➞ &quot;in... in... incredible?&quot;\n",
    "\n",
    "stutter(&quot;enthusiastic&quot;) ➞ &quot;en... en... enthusiastic?&quot;\n",
    "\n",
    "stutter(&quot;outstanding&quot;) ➞ &quot;ou... ou... outstanding?&quot;\n",
    "\n",
    "Hint :- Assume all input is in lower case and at least two characters long."
   ]
  },
  {
   "cell_type": "code",
   "execution_count": 7,
   "metadata": {},
   "outputs": [],
   "source": [
    "def stutter(word):\n",
    "    s =\"\"\n",
    "    for i in range(2):\n",
    "        for j in range(2):\n",
    "            s = s+word[j]\n",
    "        s = s+\"... \"\n",
    "    return s+word+\"?\"\n",
    "    "
   ]
  },
  {
   "cell_type": "code",
   "execution_count": 15,
   "metadata": {},
   "outputs": [
    {
     "name": "stdout",
     "output_type": "stream",
     "text": [
      "in... in... incredible?\n",
      "en... en... enthisiastic?\n",
      "ou... ou... outstanding?\n"
     ]
    }
   ],
   "source": [
    "print(stutter(\"incredible\"))\n",
    "print(stutter(\"enthisiastic\"))\n",
    "print(stutter(\"outstanding\"))"
   ]
  },
  {
   "cell_type": "code",
   "execution_count": null,
   "metadata": {},
   "outputs": [],
   "source": []
  },
  {
   "cell_type": "markdown",
   "metadata": {},
   "source": [
    "# Question 2.\n",
    "Create a function that takes an angle in radians and returns the corresponding angle in degrees rounded to one decimal place.\n",
    "\n",
    "Examples\n",
    "\n",
    "radians_to_degrees(1) ➞ 57.3\n",
    "\n",
    "radians_to_degrees(20) ➞ 1145.9\n",
    "\n",
    "radians_to_degrees(50) ➞ 2864.8"
   ]
  },
  {
   "cell_type": "code",
   "execution_count": 22,
   "metadata": {},
   "outputs": [],
   "source": [
    "import math"
   ]
  },
  {
   "cell_type": "code",
   "execution_count": 38,
   "metadata": {},
   "outputs": [],
   "source": [
    "def radians_to_degrees(r):\n",
    "    return round(r*(180/math.pi),1)\n",
    "    "
   ]
  },
  {
   "cell_type": "code",
   "execution_count": 39,
   "metadata": {},
   "outputs": [
    {
     "name": "stdout",
     "output_type": "stream",
     "text": [
      "57.3\n",
      "1145.9\n",
      "2864.8\n"
     ]
    }
   ],
   "source": [
    "print(radians_to_degrees(1))\n",
    "\n",
    "print(radians_to_degrees(20))\n",
    "\n",
    "print(radians_to_degrees(50))"
   ]
  },
  {
   "cell_type": "code",
   "execution_count": null,
   "metadata": {},
   "outputs": [],
   "source": []
  },
  {
   "cell_type": "markdown",
   "metadata": {},
   "source": [
    "# Question 3.\n",
    "In this challenge, establish if a given integer num is a Curzon number. If 1 plus 2 elevated to num is exactly divisible by 1 plus 2 multiplied by num, then num is a Curzon number. Given a non-negative integer num, implement a function that returns True if num is a Curzon number, or False otherwise.\n",
    "\n",
    "Examples\n",
    "\n",
    "is_curzon(5) ➞ True\n",
    "\n",
    "#2 ** 5 + 1 = 33\n",
    "\n",
    "#2 * 5 + 1 = 11\n",
    "\n",
    "#33 is a multiple of 11\n",
    "\n",
    "is_curzon(10) ➞ False\n",
    "\n",
    "#2 ** 10 + 1 = 1025\n",
    "\n",
    "#2 * 10 + 1 = 21\n",
    "\n",
    "#1025 is not a multiple of 21\n",
    "\n",
    "is_curzon(14) ➞ True\n",
    "\n",
    "#2 ** 14 + 1 = 16385\n",
    "\n",
    "#2 * 14 + 1 = 29\n",
    "\n",
    "#16385 is a multiple of 29\n"
   ]
  },
  {
   "cell_type": "code",
   "execution_count": 43,
   "metadata": {},
   "outputs": [],
   "source": [
    "def is_curzon(n):\n",
    "    if (((2**n)+1) % ((2*n)+1) == 0):\n",
    "        return True\n",
    "    else:\n",
    "        return False"
   ]
  },
  {
   "cell_type": "code",
   "execution_count": 49,
   "metadata": {},
   "outputs": [
    {
     "name": "stdout",
     "output_type": "stream",
     "text": [
      "is_curzon(5) -> True\n",
      "is_curzon(10) -> False\n",
      "is_curzon(14) -> True\n"
     ]
    }
   ],
   "source": [
    "print(\"is_curzon(5) ->\",is_curzon(5))\n",
    "print(\"is_curzon(10) ->\",is_curzon(10))\n",
    "print(\"is_curzon(14) ->\",is_curzon(14))"
   ]
  },
  {
   "cell_type": "code",
   "execution_count": null,
   "metadata": {},
   "outputs": [],
   "source": []
  },
  {
   "cell_type": "markdown",
   "metadata": {},
   "source": [
    "# Question 4.\n",
    "\n",
    "Given the side length x find the area of a hexagon.\n",
    "\n",
    "Examples\n",
    "\n",
    "area_of_hexagon(1) ➞ 2.6\n",
    "\n",
    "area_of_hexagon(2) ➞ 10.4\n",
    "\n",
    "area_of_hexagon(3) ➞ 23.4\n",
    "\n"
   ]
  },
  {
   "cell_type": "code",
   "execution_count": 50,
   "metadata": {},
   "outputs": [],
   "source": [
    "import math"
   ]
  },
  {
   "cell_type": "code",
   "execution_count": 55,
   "metadata": {},
   "outputs": [],
   "source": [
    "def area_of_hexagon(s):\n",
    "    return round(((3*(math.sqrt(3))*s*s)/2),1)\n",
    "    "
   ]
  },
  {
   "cell_type": "code",
   "execution_count": 58,
   "metadata": {},
   "outputs": [
    {
     "name": "stdout",
     "output_type": "stream",
     "text": [
      "area_of_hexagon(1) ->  2.6\n",
      "area_of_hexagon(2) ->  10.4\n",
      "area_of_hexagon(3) ->  23.4\n"
     ]
    }
   ],
   "source": [
    "print(\"area_of_hexagon(1) -> \",area_of_hexagon(1))\n",
    "\n",
    "print(\"area_of_hexagon(2) -> \",area_of_hexagon(2))\n",
    "\n",
    "print(\"area_of_hexagon(3) -> \",area_of_hexagon(3))"
   ]
  },
  {
   "cell_type": "code",
   "execution_count": null,
   "metadata": {},
   "outputs": [],
   "source": []
  },
  {
   "cell_type": "markdown",
   "metadata": {},
   "source": [
    "# Question 5. \n",
    "\n",
    "Create a function that returns a base-2 (binary) representation of a base-10\n",
    "\n",
    "(decimal) string number. To convert is simple: ((2) means base-2 and (10) means base-10)\n",
    "\n",
    "010101001(2) = 1 + 8 + 32 + 128.\n",
    "\n",
    "Going from right to left, the value of the most right bit is 1, now from that every bit to the left\n",
    "\n",
    "will be x2 the value, value of an 8 bit binary numbers are (256, 128, 64, 32, 16, 8, 4, 2, 1).\n",
    "\n",
    "Examples\n",
    "\n",
    "binary(1) ➞ &quot;1&quot;\n",
    "\n",
    "#1*1 = 1\n",
    "\n",
    "binary(5) ➞ &quot;101&quot;\n",
    "\n",
    "#1*1 + 1*4 = 5\n",
    "\n",
    "binary(10) ➞ &quot;1010&quot;\n",
    "#1*2 + 1*8 = 10"
   ]
  },
  {
   "cell_type": "code",
   "execution_count": 85,
   "metadata": {},
   "outputs": [],
   "source": [
    "def binary(n):\n",
    "    s=\"\"\n",
    "    while(n!=0):\n",
    "        rem = n%2\n",
    "        s = str(rem)+s\n",
    "        n = int(n/2)\n",
    "    return s"
   ]
  },
  {
   "cell_type": "code",
   "execution_count": 86,
   "metadata": {},
   "outputs": [
    {
     "name": "stdout",
     "output_type": "stream",
     "text": [
      "binary(1) -> 1\n",
      "binary(5) -> 101\n",
      "binary(10) -> 1010\n"
     ]
    }
   ],
   "source": [
    "print(\"binary(1) ->\",binary(1)) \n",
    "print(\"binary(5) ->\",binary(5))\n",
    "print(\"binary(10) ->\",binary(10))"
   ]
  },
  {
   "cell_type": "code",
   "execution_count": null,
   "metadata": {},
   "outputs": [],
   "source": []
  },
  {
   "cell_type": "code",
   "execution_count": null,
   "metadata": {},
   "outputs": [],
   "source": []
  }
 ],
 "metadata": {
  "kernelspec": {
   "display_name": "Python 3",
   "language": "python",
   "name": "python3"
  },
  "language_info": {
   "codemirror_mode": {
    "name": "ipython",
    "version": 3
   },
   "file_extension": ".py",
   "mimetype": "text/x-python",
   "name": "python",
   "nbconvert_exporter": "python",
   "pygments_lexer": "ipython3",
   "version": "3.7.1"
  }
 },
 "nbformat": 4,
 "nbformat_minor": 2
}
