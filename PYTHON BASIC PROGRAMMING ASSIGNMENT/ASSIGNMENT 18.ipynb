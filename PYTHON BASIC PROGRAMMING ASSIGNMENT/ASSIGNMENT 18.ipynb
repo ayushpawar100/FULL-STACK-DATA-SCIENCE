{
 "cells": [
  {
   "cell_type": "markdown",
   "metadata": {},
   "source": [
    "# ASSIGNMENT 18"
   ]
  },
  {
   "cell_type": "markdown",
   "metadata": {},
   "source": [
    "# Question 1\n",
    "\n",
    "Create a function that takes a list of non-negative integers and strings and return a new list without the strings.\n",
    "\n",
    "Examples\n",
    "\n",
    "filter_list([1, 2, &quot;a&quot;, &quot;b&quot;]) ➞ [1, 2]\n",
    "\n",
    "filter_list([1, &quot;a&quot;, &quot;b&quot;, 0, 15]) ➞ [1, 0, 15]\n",
    "\n",
    "filter_list([1, 2, &quot;aasf&quot;, &quot;1&quot;, &quot;123&quot;, 123]) ➞ [1, 2, 123]"
   ]
  },
  {
   "cell_type": "code",
   "execution_count": 1,
   "metadata": {},
   "outputs": [],
   "source": [
    "def filter_list(lst):\n",
    "    filter_lst = []\n",
    "    for i in lst:\n",
    "        if type(i) != str:\n",
    "            filter_lst.append(i)\n",
    "    return filter_lst"
   ]
  },
  {
   "cell_type": "code",
   "execution_count": 7,
   "metadata": {},
   "outputs": [
    {
     "name": "stdout",
     "output_type": "stream",
     "text": [
      "filter_list ([1, 2, \"a\", \"b\"]) ->  [1, 2]\n",
      "\n",
      "filter_list ([1, \"a\", \"b\", 0, 15]) ->  [1, 0, 15]\n",
      "\n",
      "filter_list ([1, 2, \"aasf\", \"1\", \"123\", 123]) ->  [1, 2, 123]\n"
     ]
    }
   ],
   "source": [
    "print('filter_list ([1, 2, \"a\", \"b\"]) -> ',filter_list([1, 2, \"a\", \"b\"]))\n",
    "print()\n",
    "print('filter_list ([1, \"a\", \"b\", 0, 15]) -> ',filter_list([1, \"a\", \"b\", 0, 15]))\n",
    "print()\n",
    "print('filter_list ([1, 2, \"aasf\", \"1\", \"123\", 123]) -> ',filter_list([1, 2, \"aasf\", \"1\", \"123\", 123]))"
   ]
  },
  {
   "cell_type": "code",
   "execution_count": null,
   "metadata": {},
   "outputs": [],
   "source": []
  },
  {
   "cell_type": "markdown",
   "metadata": {},
   "source": [
    "# Question 2\n",
    "\n",
    "The &quot;Reverser&quot; takes a string as input and returns that string in reverse order, with the\n",
    "\n",
    "opposite case.\n",
    "\n",
    "Examples\n",
    "\n",
    "reverse(&quot;Hello World&quot;) ➞ &quot;DLROw OLLEh&quot;\n",
    "\n",
    "reverse(&quot;ReVeRsE&quot;) ➞ &quot;eSrEvEr&quot;\n",
    "\n",
    "reverse(&quot;Radar&quot;) ➞ &quot;RADAr&quot;"
   ]
  },
  {
   "cell_type": "code",
   "execution_count": 14,
   "metadata": {},
   "outputs": [],
   "source": [
    "def reverse(s):\n",
    "    return s[::-1].swapcase()"
   ]
  },
  {
   "cell_type": "code",
   "execution_count": 18,
   "metadata": {},
   "outputs": [
    {
     "name": "stdout",
     "output_type": "stream",
     "text": [
      "reverse(\"Hello World\") ->  DLROw OLLEh\n",
      "\n",
      "reverse(\"ReVeRsE\") ->  eSrEvEr\n",
      "\n",
      "reverse(\"Radar\") ->  RADAr\n"
     ]
    }
   ],
   "source": [
    "print('reverse(\"Hello World\") -> ',reverse(\"Hello World\"))\n",
    "print()\n",
    "print('reverse(\"ReVeRsE\") -> ',reverse(\"ReVeRsE\"))\n",
    "print()\n",
    "print('reverse(\"Radar\") -> ',reverse(\"Radar\"))"
   ]
  },
  {
   "cell_type": "code",
   "execution_count": null,
   "metadata": {},
   "outputs": [],
   "source": []
  },
  {
   "cell_type": "markdown",
   "metadata": {},
   "source": [
    "# Question 3\n",
    "\n",
    "You can assign variables from lists like this:\n",
    "\n",
    "lst = [1, 2, 3, 4, 5, 6]\n",
    "\n",
    "first = lst[0]\n",
    "\n",
    "middle = lst[1:-1]\n",
    "\n",
    "last = lst[-1]\n",
    "\n",
    "print(first) ➞ outputs 1\n",
    "\n",
    "print(middle) ➞ outputs [2, 3, 4, 5]\n",
    "\n",
    "print(last) ➞ outputs 6 "
   ]
  },
  {
   "cell_type": "code",
   "execution_count": 24,
   "metadata": {},
   "outputs": [
    {
     "name": "stdout",
     "output_type": "stream",
     "text": [
      "first ->  1\n",
      "middle ->  [2, 3, 4, 5]\n",
      "last ->  6\n"
     ]
    }
   ],
   "source": [
    "lst = [1, 2, 3, 4, 5, 6]\n",
    "first = lst[0]\n",
    "middle = lst[1:-1]\n",
    "last = lst[-1]\n",
    "\n",
    "print(\"first -> \",first)\n",
    "print(\"middle -> \",middle)\n",
    "print(\"last -> \",last)"
   ]
  },
  {
   "cell_type": "code",
   "execution_count": null,
   "metadata": {},
   "outputs": [],
   "source": []
  },
  {
   "cell_type": "markdown",
   "metadata": {},
   "source": [
    "# Question 4\n",
    "\n",
    "Write a function that calculates the factorial of a number recursively.\n",
    "\n",
    "Examples\n",
    "\n",
    "factorial(5) ➞ 120\n",
    "\n",
    "factorial(3) ➞ 6\n",
    "\n",
    "factorial(1) ➞ 1\n",
    "\n",
    "factorial(0) ➞ 1"
   ]
  },
  {
   "cell_type": "code",
   "execution_count": 29,
   "metadata": {},
   "outputs": [],
   "source": [
    "def factorial(num):\n",
    "    if num==0:\n",
    "        return 1\n",
    "    return num * factorial(num-1)"
   ]
  },
  {
   "cell_type": "code",
   "execution_count": 30,
   "metadata": {},
   "outputs": [
    {
     "name": "stdout",
     "output_type": "stream",
     "text": [
      "factorial(5) ->  120\n",
      "\n",
      "factorial(3) ->  6\n",
      "\n",
      "factorial(1) ->  1\n",
      "\n",
      "factorial(0) ->  1\n"
     ]
    }
   ],
   "source": [
    "print(\"factorial(5) -> \",factorial(5))\n",
    "print()\n",
    "print(\"factorial(3) -> \",factorial(3))\n",
    "print()\n",
    "print(\"factorial(1) -> \",factorial(1))\n",
    "print()\n",
    "print(\"factorial(0) -> \",factorial(0))"
   ]
  },
  {
   "cell_type": "code",
   "execution_count": null,
   "metadata": {},
   "outputs": [],
   "source": []
  },
  {
   "cell_type": "markdown",
   "metadata": {},
   "source": [
    "# Question 5\n",
    "\n",
    "Write a function that moves all elements of one type to the end of the list.\n",
    "\n",
    "Examples\n",
    "\n",
    "move_to_end([1, 3, 2, 4, 4, 1], 1) ➞ [3, 2, 4, 4, 1, 1]\n",
    "\n",
    "#Move all the 1s to the end of the array.\n",
    "\n",
    "move_to_end([7, 8, 9, 1, 2, 3, 4], 9) ➞ [7, 8, 1, 2, 3, 4, 9]\n",
    "\n",
    "move_to_end([&quot;a&quot;, &quot;a&quot;, &quot;a&quot;, &quot;b&quot;], &quot;a&quot;) ➞ [&quot;b&quot;, &quot;a&quot;, &quot;a&quot;, &quot;a&quot;]"
   ]
  },
  {
   "cell_type": "code",
   "execution_count": 59,
   "metadata": {},
   "outputs": [],
   "source": [
    "def move_to_end(lst,ele):\n",
    "    m = []\n",
    "    for i in lst:\n",
    "        if i != ele:\n",
    "            m.append(i)\n",
    "        \n",
    "    for i in lst:\n",
    "        if i == ele:\n",
    "            m.append(i)\n",
    "    return m\n",
    "    "
   ]
  },
  {
   "cell_type": "code",
   "execution_count": 63,
   "metadata": {},
   "outputs": [
    {
     "name": "stdout",
     "output_type": "stream",
     "text": [
      "move_to_end([1, 3, 2, 4, 4, 1], 1) -> [3, 2, 4, 4, 1, 1]\n",
      "\n",
      "move_to_end([7, 8, 9, 1, 2, 3, 4], 9)) ->  [7, 8, 1, 2, 3, 4, 9]\n",
      "\n",
      "move_to_end([7, 8, 9, 1, 2, 3, 4], 9)) ->  ['b', 'a', 'a', 'a']\n"
     ]
    }
   ],
   "source": [
    "print(\"move_to_end([1, 3, 2, 4, 4, 1], 1) ->\",move_to_end([1, 3, 2, 4, 4, 1], 1))\n",
    "print()\n",
    "print(\"move_to_end([7, 8, 9, 1, 2, 3, 4], 9)) -> \",move_to_end([7, 8, 9, 1, 2, 3, 4], 9))\n",
    "print()\n",
    "print(\"move_to_end([7, 8, 9, 1, 2, 3, 4], 9)) -> \",move_to_end([\"a\", \"a\", \"a\", \"b\"], \"a\"))"
   ]
  },
  {
   "cell_type": "code",
   "execution_count": null,
   "metadata": {},
   "outputs": [],
   "source": []
  }
 ],
 "metadata": {
  "kernelspec": {
   "display_name": "Python 3",
   "language": "python",
   "name": "python3"
  },
  "language_info": {
   "codemirror_mode": {
    "name": "ipython",
    "version": 3
   },
   "file_extension": ".py",
   "mimetype": "text/x-python",
   "name": "python",
   "nbconvert_exporter": "python",
   "pygments_lexer": "ipython3",
   "version": "3.7.1"
  }
 },
 "nbformat": 4,
 "nbformat_minor": 2
}
