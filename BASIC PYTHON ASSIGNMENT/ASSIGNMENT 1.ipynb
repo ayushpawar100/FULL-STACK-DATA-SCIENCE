{
 "cells": [
  {
   "cell_type": "markdown",
   "metadata": {},
   "source": [
    "# 1. What are the differences between operators and values in the following?\n",
    "# *\n",
    "# &#39;hello&#39;\n",
    "# -87.8\n",
    "# -\n",
    "# /\n",
    "# +\n",
    "# 6"
   ]
  },
  {
   "cell_type": "markdown",
   "metadata": {},
   "source": [
    "# Ans :-"
   ]
  },
  {
   "cell_type": "markdown",
   "metadata": {},
   "source": [
    "    operators             values\n",
    "    \n",
    "        *                 'hello'\n",
    "        -                  -87.8\n",
    "        /                    6\n",
    "        +\n",
    "    "
   ]
  },
  {
   "cell_type": "markdown",
   "metadata": {},
   "source": [
    "# 2. What is the difference between string and variable?\n",
    "# spam\n",
    "# &#39;spam&#39;"
   ]
  },
  {
   "cell_type": "markdown",
   "metadata": {},
   "source": [
    "Ans :-\n"
   ]
  },
  {
   "cell_type": "markdown",
   "metadata": {},
   "source": [
    "variable :- A variable which is used to assign values or store information of any type(like - int , float , string ).\n",
    "       example : spam = 10\n",
    "\n",
    "string :- String is one of the data type .String values are always written in (' ' or \" \" or \"\"\" \"\"\").\n",
    "            example : 'spam'\n",
    "    "
   ]
  },
  {
   "cell_type": "markdown",
   "metadata": {},
   "source": [
    "# 3. Describe three different data forms."
   ]
  },
  {
   "cell_type": "markdown",
   "metadata": {},
   "source": [
    "Ans:-"
   ]
  },
  {
   "cell_type": "markdown",
   "metadata": {},
   "source": [
    "There are three data forms which are following :-\n",
    "1. Integer :- It is a numeric data type.It contains positive or negative whole numbers with no decimal point(Like-1,2,3,4,...).\n",
    "              \n",
    "2. Float :- It is a numeric data type. It contains numeric values with decimal point.\n",
    "\n",
    "3. String :- String is data type which contains character values or sequence of characters.It is always written in (' ' , \" \" , \"\"\" \"\"\"\")\n"
   ]
  },
  {
   "cell_type": "markdown",
   "metadata": {},
   "source": [
    "# 4. What makes up an expression? What are the functions of all expressions?"
   ]
  },
  {
   "cell_type": "markdown",
   "metadata": {},
   "source": [
    "Ans :- An expression is combination of values, operators,variables and functions.Expression is need to be evaluated to get the result from expression."
   ]
  },
  {
   "cell_type": "markdown",
   "metadata": {},
   "source": [
    "# 5. In this chapter, assignment statements such as spam = 10 were added. What&#39;s the difference between a declaration and an expression?"
   ]
  },
  {
   "cell_type": "markdown",
   "metadata": {},
   "source": [
    "Ans :- Spam is declaration and value 10 is given to it is an expression.\n",
    "    "
   ]
  },
  {
   "cell_type": "markdown",
   "metadata": {},
   "source": [
    "# 6. After running the following code, what does the variable bacon contain?\n",
    "# bacon = 22\n",
    "# bacon + 1"
   ]
  },
  {
   "cell_type": "markdown",
   "metadata": {},
   "source": [
    "Ans :- 22"
   ]
  },
  {
   "cell_type": "markdown",
   "metadata": {},
   "source": [
    "# 7. What should the values of the following two terms be?\n",
    "\n",
    "# &#39;spam&#39; + &#39;spamspam&#39;\n",
    "# &#39;spam&#39; * 3"
   ]
  },
  {
   "cell_type": "markdown",
   "metadata": {},
   "source": [
    "Ans:-\n",
    "\n",
    "1.'spamspamspam'\n",
    "\n",
    "2.'spamspamspam'"
   ]
  },
  {
   "cell_type": "markdown",
   "metadata": {},
   "source": [
    "# 8. Why is it that eggs is a true variable name but 100 is not?"
   ]
  },
  {
   "cell_type": "markdown",
   "metadata": {},
   "source": [
    "Ans:- Because variable name is always start with character or letter."
   ]
  },
  {
   "cell_type": "markdown",
   "metadata": {},
   "source": [
    "# 9. Which of the following three functions may be used to convert a value to an integer, a floating-point number, or a string?"
   ]
  },
  {
   "cell_type": "markdown",
   "metadata": {},
   "source": [
    "Ans:-\n",
    "    \n",
    "For Integer = int()\n",
    "\n",
    "For floating-point number = float()\n",
    "\n",
    "For string = str()"
   ]
  },
  {
   "cell_type": "markdown",
   "metadata": {},
   "source": [
    "# 10. What is the error caused by this expression? What would you do about it?\n",
    "\n",
    "# &#39;I have eaten &#39; + 99 + &#39; burritos.&#39;"
   ]
  },
  {
   "cell_type": "markdown",
   "metadata": {},
   "source": [
    "Ans :- \n",
    "    This expression show an error because of different types of values.\n",
    "\n",
    "      Concatination of str and int type is not possible,it only concats when all values of same type.\n",
    "      \n",
    "      example:-\n",
    "      \n",
    "      input :- 'I have eaten '+str(99)+' burritos'\n",
    "      \n",
    "      output :- 'I have eaten 99 burritos'\n",
    "      \n"
   ]
  }
 ],
 "metadata": {
  "kernelspec": {
   "display_name": "Python 3",
   "language": "python",
   "name": "python3"
  },
  "language_info": {
   "codemirror_mode": {
    "name": "ipython",
    "version": 3
   },
   "file_extension": ".py",
   "mimetype": "text/x-python",
   "name": "python",
   "nbconvert_exporter": "python",
   "pygments_lexer": "ipython3",
   "version": "3.7.1"
  }
 },
 "nbformat": 4,
 "nbformat_minor": 2
}
