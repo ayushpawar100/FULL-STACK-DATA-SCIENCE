{
 "cells": [
  {
   "cell_type": "markdown",
   "metadata": {},
   "source": [
    "# 1. What are the differences between operators and values in the following?\n",
    "# *\n",
    "# &#39;hello&#39;\n",
    "# -87.8\n",
    "# -\n",
    "# /\n",
    "# +\n",
    "# 6"
   ]
  },
  {
   "cell_type": "markdown",
   "metadata": {},
   "source": [
    "# Ans :-"
   ]
  },
  {
   "cell_type": "markdown",
   "metadata": {},
   "source": [
    "    operators             values\n",
    "    \n",
    "        *                 'hello'\n",
    "        -                  -87.8\n",
    "        /                    6\n",
    "        +\n",
    "    "
   ]
  },
  {
   "cell_type": "code",
   "execution_count": null,
   "metadata": {},
   "outputs": [],
   "source": []
  },
  {
   "cell_type": "markdown",
   "metadata": {},
   "source": [
    "# 2. What is the difference between string and variable?\n",
    "# spam\n",
    "# &#39;spam&#39;"
   ]
  },
  {
   "cell_type": "markdown",
   "metadata": {},
   "source": [
    "Ans :-\n"
   ]
  },
  {
   "cell_type": "markdown",
   "metadata": {},
   "source": [
    "variable :- A variable which is used to assign values or store information of any type(like - int , float , string ).\n",
    "       example : spam = 10\n",
    "\n",
    "string :- String is one of the data type .String values are always written in (' ' or \" \" or \"\"\" \"\"\").\n",
    "            example : 'spam'\n",
    "    "
   ]
  },
  {
   "cell_type": "code",
   "execution_count": null,
   "metadata": {},
   "outputs": [],
   "source": []
  },
  {
   "cell_type": "markdown",
   "metadata": {},
   "source": [
    "# 3. Describe three different data forms."
   ]
  },
  {
   "cell_type": "markdown",
   "metadata": {},
   "source": [
    "Ans:-"
   ]
  },
  {
   "cell_type": "markdown",
   "metadata": {},
   "source": [
    "There are three data forms which are following :-\n",
    "1. Integer\n",
    "2. Float\n",
    "3. String\n"
   ]
  },
  {
   "cell_type": "markdown",
   "metadata": {},
   "source": [
    "1. Integer :- It is a numeric data type.It contains positive or negative whole numbers with no decimal point(Like-1,2,3,4,...).\n",
    "              \n",
    "2. Float :- It is a numeric data type. It contains numbers with decimal point.\n",
    "\n",
    "3. String :- String is data type which contains character values or sequence of characters "
   ]
  }
 ],
 "metadata": {
  "kernelspec": {
   "display_name": "Python 3",
   "language": "python",
   "name": "python3"
  },
  "language_info": {
   "codemirror_mode": {
    "name": "ipython",
    "version": 3
   },
   "file_extension": ".py",
   "mimetype": "text/x-python",
   "name": "python",
   "nbconvert_exporter": "python",
   "pygments_lexer": "ipython3",
   "version": "3.7.1"
  }
 },
 "nbformat": 4,
 "nbformat_minor": 2
}
