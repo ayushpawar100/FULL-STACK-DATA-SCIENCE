{
 "cells": [
  {
   "cell_type": "markdown",
   "metadata": {},
   "source": [
    "# ASSIGNMENT 25"
   ]
  },
  {
   "cell_type": "markdown",
   "metadata": {},
   "source": [
    "# Question1\n",
    "Create a function that takes three integer arguments (a, b, c) and returns the amount of integers which are of equal value.\n",
    "\n",
    "Examples\n",
    "\n",
    "equal(3, 4, 3) ➞ 2\n",
    "\n",
    "equal(1, 1, 1) ➞ 3\n",
    "\n",
    "equal(3, 4, 1) ➞ 0"
   ]
  },
  {
   "cell_type": "code",
   "execution_count": 19,
   "metadata": {},
   "outputs": [],
   "source": [
    "def equal(a,b,c):\n",
    "    l =set([a,b,c])\n",
    "    \n",
    "    if len(l)==3:\n",
    "        return 0\n",
    "    \n",
    "    else:\n",
    "        return (4 - len(l))\n",
    "        \n",
    "    "
   ]
  },
  {
   "cell_type": "code",
   "execution_count": 21,
   "metadata": {},
   "outputs": [
    {
     "name": "stdout",
     "output_type": "stream",
     "text": [
      "equal(3, 4, 3) ➞  2\n",
      "\n",
      "equal(1, 1, 1) ➞  3\n",
      "\n",
      "equal(3, 4, 1) ➞  0\n"
     ]
    }
   ],
   "source": [
    "print('equal(3, 4, 3) ➞ ',equal(3, 4, 3))\n",
    "print()\n",
    "print('equal(1, 1, 1) ➞ ',equal(1, 1, 1))\n",
    "print()\n",
    "print('equal(3, 4, 1) ➞ ',equal(3, 4, 1))"
   ]
  },
  {
   "cell_type": "code",
   "execution_count": null,
   "metadata": {},
   "outputs": [],
   "source": []
  },
  {
   "cell_type": "markdown",
   "metadata": {},
   "source": [
    "# Question2\n",
    "Write a function that converts a dictionary into a list of keys-values tuples.\n",
    "\n",
    "Examples\n",
    "\n",
    "dict_to_list({\n",
    "&quot;D&quot;: 1,\n",
    "&quot;B&quot;: 2,\n",
    "&quot;C&quot;: 3\n",
    "}) ➞ [(&quot;B&quot;, 2), (&quot;C&quot;, 3), (&quot;D&quot;, 1)]\n",
    "\n",
    "dict_to_list({\n",
    "&quot;likes&quot;: 2,\n",
    "&quot;dislikes&quot;: 3,\n",
    "&quot;followers&quot;: 10\n",
    "}) ➞ [(&quot;dislikes&quot;, 3), (&quot;followers&quot;, 10), (&quot;likes&quot;, 2)]"
   ]
  },
  {
   "cell_type": "code",
   "execution_count": 33,
   "metadata": {},
   "outputs": [],
   "source": [
    "def dict_to_list(dictionary):\n",
    "    l = list(dictionary.items())\n",
    "    l.sort()\n",
    "    return l"
   ]
  },
  {
   "cell_type": "code",
   "execution_count": 38,
   "metadata": {},
   "outputs": [
    {
     "name": "stdout",
     "output_type": "stream",
     "text": [
      "dict_to_list({ \"D\": 1, \"B\": 2, \"C\": 3 }) ➞ [('B', 2), ('C', 3), ('D', 1)]\n",
      "\n",
      "dict_to_list({ \"likes\": 2, \"dislikes\": 3, \"followers\": 10 }) ➞  [('dislikes', 3), ('followers', 10), ('likes', 2)]\n"
     ]
    }
   ],
   "source": [
    "print('dict_to_list({ \"D\": 1, \"B\": 2, \"C\": 3 }) ➞',dict_to_list({ \"D\": 1, \"B\": 2, \"C\": 3 }))\n",
    "print()\n",
    "print('dict_to_list({ \"likes\": 2, \"dislikes\": 3, \"followers\": 10 }) ➞ ',dict_to_list({ \"likes\": 2, \"dislikes\": 3, \"followers\": 10 }))"
   ]
  },
  {
   "cell_type": "code",
   "execution_count": null,
   "metadata": {},
   "outputs": [],
   "source": []
  },
  {
   "cell_type": "markdown",
   "metadata": {},
   "source": [
    "# Question3\n",
    "Write a function that creates a dictionary with each (key, value) pair being the (lower case, upper case) versions of a letter, respectively.\n",
    "\n",
    "Examples\n",
    "\n",
    "mapping([&quot;p&quot;, &quot;s&quot;]) ➞ { &quot;p&quot;: &quot;P&quot;, &quot;s&quot;: &quot;S&quot; }\n",
    "\n",
    "mapping([&quot;a&quot;, &quot;b&quot;, &quot;c&quot;]) ➞ { &quot;a&quot;: &quot;A&quot;, &quot;b&quot;: &quot;B&quot;, &quot;c&quot;: &quot;C&quot; }\n",
    "\n",
    "mapping([&quot;a&quot;, &quot;v&quot;, &quot;y&quot;, &quot;z&quot;]) ➞ { &quot;a&quot;: &quot;A&quot;, &quot;v&quot;: &quot;V&quot;, &quot;y&quot;: &quot;Y&quot;, &quot;z&quot;: &quot;Z&quot; }"
   ]
  },
  {
   "cell_type": "code",
   "execution_count": 3,
   "metadata": {},
   "outputs": [],
   "source": [
    "def mapping(lst):\n",
    "    d = dict()\n",
    "    for i in range(len(lst)):\n",
    "        d[lst[i]] = lst[i].upper()\n",
    "    return d\n",
    "        \n",
    "    "
   ]
  },
  {
   "cell_type": "code",
   "execution_count": 5,
   "metadata": {},
   "outputs": [
    {
     "name": "stdout",
     "output_type": "stream",
     "text": [
      "mapping([\"p\", \"s\"]) ➞  {'p': 'P', 's': 'S'}\n",
      "\n",
      "mapping([\"a\", \"b\", \"c\"]) ➞  {'a': 'A', 'b': 'B', 'c': 'C'}\n",
      "\n",
      "mapping([\"a\", \"v\", \"y\", \"z\"]) ➞  {'a': 'A', 'v': 'V', 'y': 'Y', 'z': 'Z'}\n"
     ]
    }
   ],
   "source": [
    "print('mapping([\"p\", \"s\"]) ➞ ',mapping([\"p\", \"s\"]))\n",
    "print()\n",
    "print('mapping([\"a\", \"b\", \"c\"]) ➞ ',mapping([\"a\", \"b\", \"c\"]))\n",
    "print()\n",
    "print('mapping([\"a\", \"v\", \"y\", \"z\"]) ➞ ',mapping([\"a\", \"v\", \"y\", \"z\"]))"
   ]
  },
  {
   "cell_type": "code",
   "execution_count": null,
   "metadata": {},
   "outputs": [],
   "source": []
  },
  {
   "cell_type": "markdown",
   "metadata": {},
   "source": [
    "# Question4\n",
    "Write a function, that replaces all vowels in a string with a specified vowel.\n",
    "\n",
    "Examples\n",
    "\n",
    "vow_replace(&quot;apples and bananas&quot;, &quot;u&quot;) ➞ &quot;upplus und bununus&quot;\n",
    "\n",
    "vow_replace(&quot;cheese casserole&quot;, &quot;o&quot;) ➞ &quot;chooso cossorolo&quot;\n",
    "\n",
    "vow_replace(&quot;stuffed jalapeno poppers&quot;, &quot;e&quot;) ➞ &quot;steffed jelepene peppers&quot;"
   ]
  },
  {
   "cell_type": "code",
   "execution_count": 15,
   "metadata": {},
   "outputs": [],
   "source": [
    "def vow_replace(s,v):\n",
    "    l = ['A','E','I','O','U','a','e','i','o','u']\n",
    "    m =\"\"\n",
    "    for i in s:\n",
    "        if i in l:\n",
    "            m += v\n",
    "        else:\n",
    "            m += i\n",
    "    return m"
   ]
  },
  {
   "cell_type": "code",
   "execution_count": 17,
   "metadata": {},
   "outputs": [
    {
     "name": "stdout",
     "output_type": "stream",
     "text": [
      "vow_replace(\"apples and bananas\", \"u\") ➞  upplus und bununus\n",
      "\n",
      "vow_replace(\"cheese casserole\", \"o\") ➞  chooso cossorolo\n",
      "\n",
      "vow_replace(\"stuffed jalapeno poppers\", \"e\") ➞  steffed jelepene peppers\n"
     ]
    }
   ],
   "source": [
    "print('vow_replace(\"apples and bananas\", \"u\") ➞ ',vow_replace(\"apples and bananas\", \"u\")) \n",
    "print()\n",
    "print('vow_replace(\"cheese casserole\", \"o\") ➞ ',vow_replace(\"cheese casserole\", \"o\"))\n",
    "print()\n",
    "print('vow_replace(\"stuffed jalapeno poppers\", \"e\") ➞ ',vow_replace(\"stuffed jalapeno poppers\", \"e\"))"
   ]
  },
  {
   "cell_type": "code",
   "execution_count": null,
   "metadata": {},
   "outputs": [],
   "source": []
  },
  {
   "cell_type": "markdown",
   "metadata": {},
   "source": [
    "# Question5\n",
    "Create a function that takes a string as input and capitalizes a letter if its ASCII code is even and returns its lower case version if its ASCII code is odd.\n",
    "\n",
    "Examples\n",
    "\n",
    "ascii_capitalize(&quot;to be or not to be!&quot;) ➞ &quot;To Be oR NoT To Be!&quot;\n",
    "\n",
    "ascii_capitalize(&quot;THE LITTLE MERMAID&quot;) ➞ &quot;THe LiTTLe meRmaiD&quot;\n",
    "\n",
    "ascii_capitalize(&quot;Oh what a beautiful morning.&quot;) ➞ &quot;oH wHaT a BeauTiFuL\n",
    "moRNiNg.&quot;"
   ]
  },
  {
   "cell_type": "code",
   "execution_count": 25,
   "metadata": {},
   "outputs": [],
   "source": [
    "def ascii_capitalize(s):\n",
    "    m =\"\"\n",
    "    for i in s:\n",
    "        if ord(i)%2==0:\n",
    "            m = m+i.upper()\n",
    "        else:\n",
    "            m = m+i\n",
    "    return m"
   ]
  },
  {
   "cell_type": "code",
   "execution_count": 27,
   "metadata": {},
   "outputs": [
    {
     "name": "stdout",
     "output_type": "stream",
     "text": [
      "ascii_capitalize(\"to be or not to be!\") ➞  To Be oR NoT To Be!\n",
      "\n",
      "ascii_capitalize(\"THE LITTLE MERMAID\") ➞  THE LITTLE MERMAID\n",
      "\n",
      "ascii_capitalize(\"Oh what a beautiful morning.\") ➞  OH wHaT a BeauTiFuL moRNiNg.\n"
     ]
    }
   ],
   "source": [
    "print('ascii_capitalize(\"to be or not to be!\") ➞ ',ascii_capitalize(\"to be or not to be!\"))\n",
    "print()\n",
    "print('ascii_capitalize(\"THE LITTLE MERMAID\") ➞ ',ascii_capitalize(\"THE LITTLE MERMAID\"))\n",
    "print()\n",
    "print('ascii_capitalize(\"Oh what a beautiful morning.\") ➞ ',ascii_capitalize(\"Oh what a beautiful morning.\"))"
   ]
  },
  {
   "cell_type": "code",
   "execution_count": null,
   "metadata": {},
   "outputs": [],
   "source": []
  }
 ],
 "metadata": {
  "kernelspec": {
   "display_name": "Python 3",
   "language": "python",
   "name": "python3"
  },
  "language_info": {
   "codemirror_mode": {
    "name": "ipython",
    "version": 3
   },
   "file_extension": ".py",
   "mimetype": "text/x-python",
   "name": "python",
   "nbconvert_exporter": "python",
   "pygments_lexer": "ipython3",
   "version": "3.7.1"
  }
 },
 "nbformat": 4,
 "nbformat_minor": 2
}
