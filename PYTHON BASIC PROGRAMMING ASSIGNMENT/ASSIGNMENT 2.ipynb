{
 "cells": [
  {
   "cell_type": "markdown",
   "metadata": {},
   "source": [
    "# ASSIGNMENT 2"
   ]
  },
  {
   "cell_type": "markdown",
   "metadata": {},
   "source": [
    "# 1. Write a Python program to convert kilometers to miles?"
   ]
  },
  {
   "cell_type": "code",
   "execution_count": 14,
   "metadata": {},
   "outputs": [
    {
     "name": "stdout",
     "output_type": "stream",
     "text": [
      "Enter kilometers : 45\n",
      "45.0 kilometers = 27.961695 miles \n"
     ]
    }
   ],
   "source": [
    "kilometer = float(input(\"Enter kilometers : \"))\n",
    "\n",
    "miles = kilometer * 0.621371\n",
    "\n",
    "print(\"{b} kilometers = {a} miles \".format(a = miles,b= kilometer))"
   ]
  },
  {
   "cell_type": "code",
   "execution_count": null,
   "metadata": {},
   "outputs": [],
   "source": []
  },
  {
   "cell_type": "markdown",
   "metadata": {},
   "source": [
    "# 2. Write a Python program to convert Celsius to Fahrenheit?"
   ]
  },
  {
   "cell_type": "code",
   "execution_count": 13,
   "metadata": {},
   "outputs": [
    {
     "name": "stdout",
     "output_type": "stream",
     "text": [
      "Enter Celcius : 56\n",
      "56.0 Celcius = 132.8 Farenheit\n"
     ]
    }
   ],
   "source": [
    "celcius = float(input(\"Enter Celcius : \"))\n",
    "\n",
    "farenheit = (celcius *(9/5)) + 32\n",
    "\n",
    "print(\"{} Celcius = {} Farenheit\".format(celcius,farenheit))"
   ]
  },
  {
   "cell_type": "code",
   "execution_count": null,
   "metadata": {},
   "outputs": [],
   "source": []
  },
  {
   "cell_type": "markdown",
   "metadata": {},
   "source": [
    "# 3. Write a Python program to display calendar?"
   ]
  },
  {
   "cell_type": "code",
   "execution_count": 17,
   "metadata": {},
   "outputs": [
    {
     "name": "stdout",
     "output_type": "stream",
     "text": [
      "Enter Year : 2021\n",
      "Enter Month : 3\n",
      "     March 2021\n",
      "Mo Tu We Th Fr Sa Su\n",
      " 1  2  3  4  5  6  7\n",
      " 8  9 10 11 12 13 14\n",
      "15 16 17 18 19 20 21\n",
      "22 23 24 25 26 27 28\n",
      "29 30 31\n",
      "\n"
     ]
    }
   ],
   "source": [
    "import calendar\n",
    "\n",
    "yy = int(input(\"Enter Year : \"))\n",
    "\n",
    "mm = int(input(\"Enter Month : \"))\n",
    "\n",
    "cal = calendar.month(yy,mm)\n",
    "\n",
    "print(cal)"
   ]
  },
  {
   "cell_type": "code",
   "execution_count": null,
   "metadata": {},
   "outputs": [],
   "source": []
  },
  {
   "cell_type": "markdown",
   "metadata": {},
   "source": [
    "# 4. Write a Python program to solve quadratic equation?"
   ]
  },
  {
   "cell_type": "code",
   "execution_count": 48,
   "metadata": {},
   "outputs": [
    {
     "name": "stdout",
     "output_type": "stream",
     "text": [
      "Enter a : 5\n",
      "Enter b : 2\n",
      "Enter c : 1\n",
      "sol1 =  -0.2 + 0.4 j\n",
      "sol1 =  -0.2 - 0.4 j\n"
     ]
    }
   ],
   "source": [
    "# quadratic equation is ax^2 + bx + c\n",
    "import math \n",
    "\n",
    "a = int(input(\"Enter a : \"))\n",
    "b = int(input(\"Enter b : \"))\n",
    "c = int(input(\"Enter c : \"))\n",
    "\n",
    "dis = ((b*b)-(4*a*c))\n",
    "\n",
    "\n",
    "if dis>=0:\n",
    "    dis = math.sqrt(dis)\n",
    "    sol1 = (-b + dis)/(2*a)\n",
    "    sol2 = (-b - dis)/(2*a)\n",
    "    print(\"sol1 = \",sol1,\" , \"\"sol2 = \",sol2)\n",
    "    \n",
    "    \n",
    "else :\n",
    "    dis = -dis\n",
    "    dis = math.sqrt(dis)\n",
    "    \n",
    "    sol1 = (-b/(2*a))\n",
    "    sol2 = (dis/(2*a))\n",
    "    print(\"sol1 = \",sol1,\"+\",sol2,\"j\")\n",
    "    print(\"sol1 = \",sol1,\"-\",sol2,\"j\")\n",
    "    \n",
    "\n"
   ]
  },
  {
   "cell_type": "code",
   "execution_count": null,
   "metadata": {},
   "outputs": [],
   "source": []
  },
  {
   "cell_type": "markdown",
   "metadata": {},
   "source": [
    "# 5. Write a Python program to swap two variables without temp variable?"
   ]
  },
  {
   "cell_type": "code",
   "execution_count": 29,
   "metadata": {},
   "outputs": [
    {
     "name": "stdout",
     "output_type": "stream",
     "text": [
      "enter a : 5\n",
      "enter b : 3\n",
      "\n",
      "a :  3  b :  5\n"
     ]
    }
   ],
   "source": [
    "a = int(input(\"enter a : \"))\n",
    "b = int(input(\"enter b : \"))\n",
    "\n",
    "a = a + b\n",
    "b = a - b\n",
    "a = a - b\n",
    "\n",
    "print(\"\\na : \",a,\" b : \",b)"
   ]
  },
  {
   "cell_type": "code",
   "execution_count": null,
   "metadata": {},
   "outputs": [],
   "source": []
  }
 ],
 "metadata": {
  "kernelspec": {
   "display_name": "Python 3",
   "language": "python",
   "name": "python3"
  },
  "language_info": {
   "codemirror_mode": {
    "name": "ipython",
    "version": 3
   },
   "file_extension": ".py",
   "mimetype": "text/x-python",
   "name": "python",
   "nbconvert_exporter": "python",
   "pygments_lexer": "ipython3",
   "version": "3.7.1"
  }
 },
 "nbformat": 4,
 "nbformat_minor": 2
}
