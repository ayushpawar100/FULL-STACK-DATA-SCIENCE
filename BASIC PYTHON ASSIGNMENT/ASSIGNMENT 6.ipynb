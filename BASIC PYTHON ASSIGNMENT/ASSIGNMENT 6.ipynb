{
 "cells": [
  {
   "cell_type": "markdown",
   "metadata": {},
   "source": [
    "\n",
    "## ASSIGNMENT - 6"
   ]
  },
  {
   "cell_type": "markdown",
   "metadata": {},
   "source": [
    "# 1. What are escape characters, and how do you use them?"
   ]
  },
  {
   "cell_type": "markdown",
   "metadata": {},
   "source": [
    "Ans:- The backslash \" \\ \" is a escape character.It is used in representing certain whitespace characters.\n",
    "\n",
    "      Like :- \"\\t\" is used for tab space\n",
    "      \n",
    "              \"\\n\" is used for newline"
   ]
  },
  {
   "cell_type": "code",
   "execution_count": null,
   "metadata": {},
   "outputs": [],
   "source": []
  },
  {
   "cell_type": "markdown",
   "metadata": {},
   "source": [
    "# 2. What do the escape characters n and t stand for?"
   ]
  },
  {
   "cell_type": "markdown",
   "metadata": {},
   "source": [
    "    Ans :- \" \\n \" stand for Newline\n",
    "    \n",
    "           \" \\t \" stand for tab"
   ]
  },
  {
   "cell_type": "code",
   "execution_count": null,
   "metadata": {},
   "outputs": [],
   "source": []
  },
  {
   "cell_type": "markdown",
   "metadata": {},
   "source": [
    "# 3. What is the way to include backslash characters in a string?"
   ]
  },
  {
   "cell_type": "raw",
   "metadata": {},
   "source": [
    "There are two ways to include backslash characters in a string.\n",
    "\n",
    "By using \"\\\\\" and r\" \\ \""
   ]
  },
  {
   "cell_type": "code",
   "execution_count": 44,
   "metadata": {},
   "outputs": [
    {
     "name": "stdout",
     "output_type": "stream",
     "text": [
      "\\task\n"
     ]
    }
   ],
   "source": [
    "a = \"\\\\task\"\n",
    "print(a)"
   ]
  },
  {
   "cell_type": "code",
   "execution_count": 5,
   "metadata": {},
   "outputs": [
    {
     "name": "stdout",
     "output_type": "stream",
     "text": [
      "\\abc\n"
     ]
    }
   ],
   "source": [
    "b = r\"\\abc\"\n",
    "print(b)"
   ]
  },
  {
   "cell_type": "code",
   "execution_count": null,
   "metadata": {},
   "outputs": [],
   "source": []
  },
  {
   "cell_type": "markdown",
   "metadata": {},
   "source": [
    "# 4. The string &quot;Howl&#39;s Moving Castle&quot; is a correct value. Why isn&#39;t the single quote character in the word Howl&#39;s not escaped a problem?"
   ]
  },
  {
   "cell_type": "markdown",
   "metadata": {},
   "source": [
    "Ans :- Because in word Howl's there is single qoutes and the whole string is in double quotes ,so it considers single quotes as a part of the string and won't show an error.\n",
    "\n",
    "But if we write whole string in single quotes('Howl's Moving Castle') then it shows an error beacause python thinks string ends after 'Howl' and rest is invalid code."
   ]
  },
  {
   "cell_type": "code",
   "execution_count": null,
   "metadata": {},
   "outputs": [],
   "source": []
  },
  {
   "cell_type": "markdown",
   "metadata": {},
   "source": [
    "# 5. How do you write a string of newlines if you don&#39;t want to use the n character?"
   ]
  },
  {
   "cell_type": "markdown",
   "metadata": {},
   "source": [
    "   Ans:-Instead of writting\"\\n\" for new line we use multiline strings.Multiline string in python begins and ends with either \n",
    "         three single quotes or three double quotes.\n",
    "         \n",
    "         example :-"
   ]
  },
  {
   "cell_type": "code",
   "execution_count": 9,
   "metadata": {},
   "outputs": [
    {
     "name": "stdout",
     "output_type": "stream",
     "text": [
      "Hello!\n",
      "\n",
      "How are you?\n",
      "\n",
      "where are you?\n"
     ]
    }
   ],
   "source": [
    "print(\"\"\"Hello!\n",
    "\n",
    "How are you?\n",
    "\n",
    "where are you?\"\"\")"
   ]
  },
  {
   "cell_type": "code",
   "execution_count": null,
   "metadata": {},
   "outputs": [],
   "source": []
  },
  {
   "cell_type": "markdown",
   "metadata": {},
   "source": [
    "# 6. What are the values of the given expressions?\n",
    "\n",
    "# &#39;Hello, world!&#39;[1]\n",
    "# &#39;Hello, world!&#39;[0:5]\n",
    "# &#39;Hello, world!&#39;[:5]\n",
    "# &#39;Hello, world!&#39;[3:]"
   ]
  },
  {
   "cell_type": "markdown",
   "metadata": {},
   "source": [
    "#index is always starts from 0\n",
    "\n",
    "    'Hello, world!'[1]      =    'e'\n",
    "\n",
    "    'Hello, world!'[0:5]    =    'Hello'\n",
    "\n",
    "    'Hello, world!'[:5]     =    'Hello'\n",
    "\n",
    "    'Hello, world!'[3:]     =     'lo, world!''"
   ]
  },
  {
   "cell_type": "code",
   "execution_count": null,
   "metadata": {},
   "outputs": [],
   "source": []
  },
  {
   "cell_type": "markdown",
   "metadata": {},
   "source": [
    "# 7. What are the values of the following expressions?\n",
    "\n",
    "# &#39;Hello&#39;.upper()\n",
    "# &#39;Hello&#39;.upper().isupper()\n",
    "# &#39;Hello&#39;.upper().lower()"
   ]
  },
  {
   "cell_type": "markdown",
   "metadata": {},
   "source": [
    "Ans:- \n",
    "    \n",
    "    'Hello'.upper()             =      'HELLO'\n",
    "    \n",
    "    'Hello'.upper().isupper()   =       True\n",
    "    \n",
    "    'Hello'.upper().lower()     =       'hello'"
   ]
  },
  {
   "cell_type": "code",
   "execution_count": null,
   "metadata": {},
   "outputs": [],
   "source": []
  },
  {
   "cell_type": "markdown",
   "metadata": {},
   "source": [
    "# 8. What are the values of the following expressions?\n",
    "\n",
    "# &#39;Remember, remember, the fifth of July.&#39;.split()\n",
    "# &#39;-&#39;.join(&#39;There can only one.&#39;.split())"
   ]
  },
  {
   "cell_type": "markdown",
   "metadata": {},
   "source": [
    "Ans :-\n",
    "    \n",
    "    'Remember, remember, the fifth of July.'.split()    =   ['Remember,','remember,','the','fifth','of','July']\n",
    "    \n",
    "    '-'.join('There can only one.'.split())             =   'There-can-only-one.'\n",
    "    "
   ]
  },
  {
   "cell_type": "code",
   "execution_count": null,
   "metadata": {},
   "outputs": [],
   "source": []
  },
  {
   "cell_type": "markdown",
   "metadata": {},
   "source": [
    "# 9. What are the methods for right-justifying, left-justifying, and centering a string?"
   ]
  },
  {
   "cell_type": "markdown",
   "metadata": {},
   "source": [
    "Ans :- \n",
    "\n",
    "    For right-justifying      =  rjust()\n",
    "    \n",
    "    For left-justifying       =  ljust()\n",
    "    \n",
    "    For centering a string    =  center()"
   ]
  },
  {
   "cell_type": "code",
   "execution_count": null,
   "metadata": {},
   "outputs": [],
   "source": []
  },
  {
   "cell_type": "markdown",
   "metadata": {},
   "source": [
    "# 10. What is the best way to remove whitespace characters from the start or end?"
   ]
  },
  {
   "cell_type": "markdown",
   "metadata": {},
   "source": [
    "Ans :- To remove whitespace characters from the start or end of string we use strip() method.\n",
    "    \n",
    "        example :-"
   ]
  },
  {
   "cell_type": "code",
   "execution_count": 45,
   "metadata": {},
   "outputs": [
    {
     "data": {
      "text/plain": [
       "'    asdf    '"
      ]
     },
     "execution_count": 45,
     "metadata": {},
     "output_type": "execute_result"
    }
   ],
   "source": [
    "x = \"    asdf    \"\n",
    "x"
   ]
  },
  {
   "cell_type": "code",
   "execution_count": 46,
   "metadata": {},
   "outputs": [
    {
     "data": {
      "text/plain": [
       "'asdf'"
      ]
     },
     "execution_count": 46,
     "metadata": {},
     "output_type": "execute_result"
    }
   ],
   "source": [
    "x.strip()"
   ]
  },
  {
   "cell_type": "code",
   "execution_count": null,
   "metadata": {},
   "outputs": [],
   "source": []
  }
 ],
 "metadata": {
  "kernelspec": {
   "display_name": "Python 3",
   "language": "python",
   "name": "python3"
  },
  "language_info": {
   "codemirror_mode": {
    "name": "ipython",
    "version": 3
   },
   "file_extension": ".py",
   "mimetype": "text/x-python",
   "name": "python",
   "nbconvert_exporter": "python",
   "pygments_lexer": "ipython3",
   "version": "3.7.1"
  }
 },
 "nbformat": 4,
 "nbformat_minor": 2
}
