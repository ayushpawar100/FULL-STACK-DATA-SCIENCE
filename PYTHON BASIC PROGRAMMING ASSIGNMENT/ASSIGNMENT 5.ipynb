{
 "cells": [
  {
   "cell_type": "markdown",
   "metadata": {},
   "source": [
    "# ASSIGNMENT 5"
   ]
  },
  {
   "cell_type": "markdown",
   "metadata": {},
   "source": [
    "# 1. Write a Python Program to Find LCM?"
   ]
  },
  {
   "cell_type": "code",
   "execution_count": 7,
   "metadata": {},
   "outputs": [
    {
     "name": "stdout",
     "output_type": "stream",
     "text": [
      "Enter first num : 6\n",
      "Enter second num : 15\n",
      "LCM :  30\n"
     ]
    }
   ],
   "source": [
    "n1 = int(input(\"Enter first num : \"))\n",
    "n2 = int(input(\"Enter second num : \"))\n",
    "\n",
    "if(n1>=n2):\n",
    "    k = n1\n",
    "else:\n",
    "    k = n2\n",
    "    \n",
    "for i in range(k,(n1*n2)+1):\n",
    "    if(i%n1==0):\n",
    "        if(i%n2==0):\n",
    "            print(\"LCM : \",i)\n",
    "            break\n",
    "    "
   ]
  },
  {
   "cell_type": "code",
   "execution_count": null,
   "metadata": {},
   "outputs": [],
   "source": []
  },
  {
   "cell_type": "markdown",
   "metadata": {},
   "source": [
    "# 2. Write a Python Program to Find HCF?"
   ]
  },
  {
   "cell_type": "code",
   "execution_count": 15,
   "metadata": {},
   "outputs": [
    {
     "name": "stdout",
     "output_type": "stream",
     "text": [
      "Enter first number : 13\n",
      "Enter second number : 17\n",
      "GCD :  1\n"
     ]
    }
   ],
   "source": [
    "n1 = int(input(\"Enter first number : \"))\n",
    "n2 = int(input(\"Enter second number : \"))\n",
    "\n",
    "if(n1<=n2):\n",
    "    k = n1\n",
    "else:\n",
    "    k = n2\n",
    "\n",
    "\n",
    "for i in range(1,k+1):\n",
    "    if((n1%i==0) and (n2%i==0)):\n",
    "        gcd = i\n",
    "    \n",
    "print(\"GCD : \",gcd)\n"
   ]
  },
  {
   "cell_type": "code",
   "execution_count": null,
   "metadata": {},
   "outputs": [],
   "source": []
  },
  {
   "cell_type": "markdown",
   "metadata": {},
   "source": [
    "# 3. Write a Python Program to Convert Decimal to Binary, Octal and Hexadecimal?"
   ]
  },
  {
   "cell_type": "code",
   "execution_count": 18,
   "metadata": {},
   "outputs": [
    {
     "name": "stdout",
     "output_type": "stream",
     "text": [
      "Enter a number : 344\n",
      "Binary :  0b101011000\n",
      "Octal :  0o530\n",
      "Hexadecimal :  0x158\n"
     ]
    }
   ],
   "source": [
    "num = int(input(\"Enter a number : \"))\n",
    "\n",
    "print(\"Binary : \",bin(num))\n",
    "print(\"Octal : \",oct(num))\n",
    "print(\"Hexadecimal : \",hex(num))"
   ]
  },
  {
   "cell_type": "code",
   "execution_count": null,
   "metadata": {},
   "outputs": [],
   "source": []
  },
  {
   "cell_type": "markdown",
   "metadata": {},
   "source": [
    "# 4. Write a Python Program To Find ASCII value of a character?"
   ]
  },
  {
   "cell_type": "code",
   "execution_count": 24,
   "metadata": {},
   "outputs": [
    {
     "name": "stdout",
     "output_type": "stream",
     "text": [
      "Enter a number : 5\n",
      "ASCII value of '5' is : 53\n"
     ]
    }
   ],
   "source": [
    "char = input(\"Enter a number : \")\n",
    "\n",
    "print(\"ASCII value of '{}' is : {}\".format(char,ord(char)))\n"
   ]
  },
  {
   "cell_type": "code",
   "execution_count": null,
   "metadata": {},
   "outputs": [],
   "source": []
  },
  {
   "cell_type": "markdown",
   "metadata": {},
   "source": [
    "# 5. Write a Python Program to Make a Simple Calculator with 4 basic mathematical operations?"
   ]
  },
  {
   "cell_type": "code",
   "execution_count": 30,
   "metadata": {},
   "outputs": [
    {
     "name": "stdout",
     "output_type": "stream",
     "text": [
      "Enter first number : 5\n",
      "Enter operator : -\n",
      "Enter second number : 10\n",
      "5 - 10 = -5\n"
     ]
    }
   ],
   "source": [
    "n1 = int(input(\"Enter first number : \"))\n",
    "operator = input(\"Enter operator : \")\n",
    "n2 = int(input(\"Enter second number : \"))\n",
    "\n",
    "if(operator == '+'):\n",
    "    ans  = n1 + n2\n",
    "    print(\"{} {} {} = {}\".format(n1,operator,n2,ans))\n",
    "elif(operator == '-'):\n",
    "    ans = n1 - n2\n",
    "    print(\"{} {} {} = {}\".format(n1,operator,n2,ans))\n",
    "elif(operator == '*'):\n",
    "    ans = n1 * n2\n",
    "    print(\"{} {} {} = {}\".format(n1,operator,n2,ans))\n",
    "elif(operator == '/'):\n",
    "    ans = n1 / n2\n",
    "    print(\"{} {} {} = {}\".format(n1,operator,n2,ans))\n",
    "else :\n",
    "    print(\"Invalid input\")\n"
   ]
  },
  {
   "cell_type": "code",
   "execution_count": null,
   "metadata": {},
   "outputs": [],
   "source": []
  }
 ],
 "metadata": {
  "kernelspec": {
   "display_name": "Python 3",
   "language": "python",
   "name": "python3"
  },
  "language_info": {
   "codemirror_mode": {
    "name": "ipython",
    "version": 3
   },
   "file_extension": ".py",
   "mimetype": "text/x-python",
   "name": "python",
   "nbconvert_exporter": "python",
   "pygments_lexer": "ipython3",
   "version": "3.7.1"
  }
 },
 "nbformat": 4,
 "nbformat_minor": 2
}
