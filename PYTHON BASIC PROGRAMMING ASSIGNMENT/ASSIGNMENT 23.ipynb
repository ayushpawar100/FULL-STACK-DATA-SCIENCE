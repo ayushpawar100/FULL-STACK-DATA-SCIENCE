{
 "cells": [
  {
   "cell_type": "markdown",
   "metadata": {},
   "source": [
    "# ASSIGNMENT 23"
   ]
  },
  {
   "cell_type": "markdown",
   "metadata": {},
   "source": [
    "# Question 1\n",
    "Create a function that takes a number as an argument and returns True or False depending on whether the number is symmetrical or not. A number is symmetrical when it is the same as its reverse.\n",
    "\n",
    "Examples\n",
    "\n",
    "is_symmetrical(7227) ➞ True\n",
    "\n",
    "is_symmetrical(12567) ➞ False\n",
    "\n",
    "is_symmetrical(44444444) ➞ True\n",
    "\n",
    "is_symmetrical(9939) ➞ False\n",
    "\n",
    "is_symmetrical(1112111) ➞ True"
   ]
  },
  {
   "cell_type": "code",
   "execution_count": 21,
   "metadata": {},
   "outputs": [],
   "source": [
    "def is_symmetrical(num):\n",
    "    n = num\n",
    "    sum = 0\n",
    "    while(num!=0):\n",
    "        r = int(num%10)\n",
    "        sum = sum*10+r\n",
    "        num = int(num/10)\n",
    "    if (n == sum):\n",
    "        return True\n",
    "    return False"
   ]
  },
  {
   "cell_type": "code",
   "execution_count": 26,
   "metadata": {},
   "outputs": [
    {
     "name": "stdout",
     "output_type": "stream",
     "text": [
      "is_symmetrical(7227) ->  True\n",
      "\n",
      "is_symmetrical(12567) ->  False\n",
      "\n",
      "is_symmetrical(44444444) ->  True\n",
      "\n",
      "is_symmetrical(9939) ->  False\n",
      "\n",
      "is_symmetrical(1112111) ->  True\n"
     ]
    }
   ],
   "source": [
    "print(\"is_symmetrical(7227) -> \",is_symmetrical(7227))\n",
    "print()\n",
    "print(\"is_symmetrical(12567) -> \",is_symmetrical(12567))\n",
    "print()\n",
    "print(\"is_symmetrical(44444444) -> \",is_symmetrical(44444444))\n",
    "print()\n",
    "print(\"is_symmetrical(9939) -> \",is_symmetrical(9939))\n",
    "print()\n",
    "print(\"is_symmetrical(1112111) -> \",is_symmetrical(1112111))"
   ]
  },
  {
   "cell_type": "code",
   "execution_count": null,
   "metadata": {},
   "outputs": [],
   "source": []
  },
  {
   "cell_type": "markdown",
   "metadata": {},
   "source": [
    "# Question 2\n",
    "Given a string of numbers separated by a comma and space, return the product of the numbers.\n",
    "\n",
    "Examples\n",
    "\n",
    "multiply_nums(&quot;2, 3&quot;) ➞ 6\n",
    "\n",
    "multiply_nums(&quot;1, 2, 3, 4&quot;) ➞ 24\n",
    "\n",
    "multiply_nums(&quot;54, 75, 453, 0&quot;) ➞ 0\n",
    "\n",
    "multiply_nums(&quot;10, -2&quot;) ➞ -20"
   ]
  },
  {
   "cell_type": "code",
   "execution_count": 70,
   "metadata": {},
   "outputs": [],
   "source": [
    "def multiply_nums(s):\n",
    "    l = s.split(',')\n",
    "    sum = 1\n",
    "    for i in l:\n",
    "        sum *= int(i)\n",
    "    return sum"
   ]
  },
  {
   "cell_type": "code",
   "execution_count": 71,
   "metadata": {},
   "outputs": [
    {
     "name": "stdout",
     "output_type": "stream",
     "text": [
      "multiply_nums(\"2, 3\") ➞  6\n",
      "\n",
      "multiply_nums(\"1, 2, 3, 4\") ➞  24\n",
      "\n",
      "multiply_nums(\"54, 75, 453, 0\") ➞  0\n",
      "\n",
      "multiply_nums(\"10, -2\") ➞  -20\n"
     ]
    }
   ],
   "source": [
    "print('multiply_nums(\"2, 3\") ➞ ',multiply_nums(\"2, 3\"))\n",
    "print()\n",
    "print('multiply_nums(\"1, 2, 3, 4\") ➞ ',multiply_nums(\"1, 2, 3, 4\"))\n",
    "print()\n",
    "print('multiply_nums(\"54, 75, 453, 0\") ➞ ',multiply_nums(\"54, 75, 453, 0\"))\n",
    "print()\n",
    "print('multiply_nums(\"10, -2\") ➞ ',multiply_nums(\"10, -2\")) "
   ]
  },
  {
   "cell_type": "code",
   "execution_count": null,
   "metadata": {},
   "outputs": [],
   "source": []
  },
  {
   "cell_type": "markdown",
   "metadata": {},
   "source": [
    "# Question 3\n",
    "Create a function that squares every digit of a number.\n",
    "\n",
    "Examples\n",
    "\n",
    "square_digits(9119) ➞ 811181\n",
    "\n",
    "square_digits(2483) ➞ 416649\n",
    "\n",
    "square_digits(3212) ➞ 9414"
   ]
  },
  {
   "cell_type": "code",
   "execution_count": 105,
   "metadata": {},
   "outputs": [],
   "source": [
    "def square_digits(num):\n",
    "    s = \"\"\n",
    "    while(num!=0):\n",
    "        r = num%10\n",
    "        s = str(r*r)+s\n",
    "        num = int(num/10)\n",
    "    return int(s)"
   ]
  },
  {
   "cell_type": "code",
   "execution_count": 106,
   "metadata": {},
   "outputs": [
    {
     "name": "stdout",
     "output_type": "stream",
     "text": [
      "square_digits(9119) ➞  811181\n",
      "\n",
      "square_digits(2483) ➞  416649\n",
      "\n",
      "square_digits(3212) ➞  9414\n"
     ]
    }
   ],
   "source": [
    "print(\"square_digits(9119) ➞ \",square_digits(9119))\n",
    "print()\n",
    "print(\"square_digits(2483) ➞ \",square_digits(2483))\n",
    "print()\n",
    "print(\"square_digits(3212) ➞ \",square_digits(3212))"
   ]
  },
  {
   "cell_type": "code",
   "execution_count": null,
   "metadata": {},
   "outputs": [],
   "source": []
  },
  {
   "cell_type": "markdown",
   "metadata": {},
   "source": [
    "# Question 4\n",
    "Create a function that sorts a list and removes all duplicate items from it.\n",
    "\n",
    "Examples\n",
    "\n",
    "setify([1, 3, 3, 5, 5]) ➞ [1, 3, 5]\n",
    "\n",
    "setify([4, 4, 4, 4]) ➞ [4]\n",
    "\n",
    "setify([5, 7, 8, 9, 10, 15]) ➞ [5, 7, 8, 9, 10, 15]\n",
    "\n",
    "setify([3, 3, 3, 2, 1]) ➞ [1, 2, 3]"
   ]
  },
  {
   "cell_type": "code",
   "execution_count": 107,
   "metadata": {},
   "outputs": [],
   "source": [
    "def setify(lst):\n",
    "    lst = list(set(lst))\n",
    "    return lst"
   ]
  },
  {
   "cell_type": "code",
   "execution_count": 109,
   "metadata": {},
   "outputs": [
    {
     "name": "stdout",
     "output_type": "stream",
     "text": [
      "setify([1, 3, 3, 5, 5]) ➞  [1, 3, 5]\n",
      "\n",
      "setify([4, 4, 4, 4]) ➞  [4]\n",
      "\n",
      "setify([5, 7, 8, 9, 10, 15]) ➞  [5, 7, 8, 9, 10, 15]\n",
      "\n",
      "setify([3, 3, 3, 2, 1]) ➞  [1, 2, 3]\n"
     ]
    }
   ],
   "source": [
    "print(\"setify([1, 3, 3, 5, 5]) ➞ \",setify([1, 3, 3, 5, 5]))\n",
    "print()\n",
    "print(\"setify([4, 4, 4, 4]) ➞ \",setify([4, 4, 4, 4]))\n",
    "print()\n",
    "print(\"setify([5, 7, 8, 9, 10, 15]) ➞ \",setify([5, 7, 8, 9, 10, 15]))\n",
    "print()\n",
    "print(\"setify([3, 3, 3, 2, 1]) ➞ \",setify([3, 3, 3, 2, 1]))"
   ]
  },
  {
   "cell_type": "code",
   "execution_count": null,
   "metadata": {},
   "outputs": [],
   "source": []
  },
  {
   "cell_type": "markdown",
   "metadata": {},
   "source": [
    "# Question 5\n",
    "Create a function that returns the mean of all digits.\n",
    "\n",
    "Examples\n",
    "\n",
    "mean(42) ➞ 3\n",
    "\n",
    "mean(12345) ➞ 3\n",
    "\n",
    "mean(666) ➞ 6"
   ]
  },
  {
   "cell_type": "code",
   "execution_count": 114,
   "metadata": {},
   "outputs": [],
   "source": [
    "def mean(num):\n",
    "    sum = 0\n",
    "    count = 0\n",
    "    while(num!=0):\n",
    "        r = num%10\n",
    "        sum = sum +r\n",
    "        num = num//10\n",
    "        count += 1 \n",
    "    return int(sum/count)"
   ]
  },
  {
   "cell_type": "code",
   "execution_count": 116,
   "metadata": {},
   "outputs": [
    {
     "name": "stdout",
     "output_type": "stream",
     "text": [
      "mean(42) ->  3\n",
      "\n",
      "mean(12345) ->  3\n",
      "\n",
      "mean(666) ->  6\n"
     ]
    }
   ],
   "source": [
    "print(\"mean(42) -> \",mean(42))\n",
    "print()\n",
    "print(\"mean(12345) -> \",mean(12345))\n",
    "print()\n",
    "print(\"mean(666) -> \",mean(666))"
   ]
  },
  {
   "cell_type": "code",
   "execution_count": null,
   "metadata": {},
   "outputs": [],
   "source": []
  }
 ],
 "metadata": {
  "kernelspec": {
   "display_name": "Python 3",
   "language": "python",
   "name": "python3"
  },
  "language_info": {
   "codemirror_mode": {
    "name": "ipython",
    "version": 3
   },
   "file_extension": ".py",
   "mimetype": "text/x-python",
   "name": "python",
   "nbconvert_exporter": "python",
   "pygments_lexer": "ipython3",
   "version": "3.7.1"
  }
 },
 "nbformat": 4,
 "nbformat_minor": 2
}
