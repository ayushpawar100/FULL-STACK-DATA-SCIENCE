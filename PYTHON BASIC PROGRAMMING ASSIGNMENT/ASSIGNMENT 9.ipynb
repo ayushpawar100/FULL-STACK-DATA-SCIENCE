{
 "cells": [
  {
   "cell_type": "markdown",
   "metadata": {},
   "source": [
    "# ASSIGNMENT  - 9"
   ]
  },
  {
   "cell_type": "markdown",
   "metadata": {},
   "source": [
    "# 1. Write a Python program to check if the given number is a Disarium Number?"
   ]
  },
  {
   "cell_type": "code",
   "execution_count": 53,
   "metadata": {},
   "outputs": [
    {
     "name": "stdout",
     "output_type": "stream",
     "text": [
      "Enter a number : 89\n",
      "89 is Disarium Number\n"
     ]
    }
   ],
   "source": [
    "#A number is called Disarium if sum of its digits powered with their respective positions is equal to the number itself.\n",
    "# example :-\n",
    "# n = 175 \n",
    "# (1)^1 + (7)^2 + (5)^3 = 175\n",
    "\n",
    "num = int(input(\"Enter a number : \"))\n",
    "l= len(str(num))\n",
    "\n",
    "n = num\n",
    "sum = 0\n",
    "while(l>0):\n",
    "    r = int(n%10)\n",
    "    sum = sum + ((r)**l)\n",
    "    n = int(n/10)\n",
    "    l = l - 1\n",
    "if(num == sum):\n",
    "    print(num,\"is Disarium Number\")\n",
    "else:\n",
    "    print(num,\"is not a Disarium Number\")\n"
   ]
  },
  {
   "cell_type": "code",
   "execution_count": null,
   "metadata": {},
   "outputs": [],
   "source": []
  },
  {
   "cell_type": "markdown",
   "metadata": {},
   "source": [
    "# 2. Write a Python program to print all disarium numbers between 1 to 100?"
   ]
  },
  {
   "cell_type": "code",
   "execution_count": 62,
   "metadata": {},
   "outputs": [],
   "source": [
    "a = []\n",
    "for i in range(1,100):\n",
    "    l= len(str(i))\n",
    "    n = i\n",
    "    sum = 0\n",
    "    while(l>0):\n",
    "        r = int(n%10)\n",
    "        sum = sum + ((r)**l)\n",
    "        n = int(n/10)\n",
    "        l = l - 1\n",
    "    if(i == sum):\n",
    "        a.append(sum)\n",
    "        "
   ]
  },
  {
   "cell_type": "code",
   "execution_count": 63,
   "metadata": {},
   "outputs": [
    {
     "data": {
      "text/plain": [
       "[1, 2, 3, 4, 5, 6, 7, 8, 9, 89]"
      ]
     },
     "execution_count": 63,
     "metadata": {},
     "output_type": "execute_result"
    }
   ],
   "source": [
    "a"
   ]
  },
  {
   "cell_type": "code",
   "execution_count": null,
   "metadata": {},
   "outputs": [],
   "source": []
  },
  {
   "cell_type": "markdown",
   "metadata": {},
   "source": [
    "# 3. Write a Python program to check if the given number is Happy Number?"
   ]
  },
  {
   "cell_type": "code",
   "execution_count": 4,
   "metadata": {},
   "outputs": [],
   "source": [
    "#this code is for squaring and adding\n",
    "def happy(m):\n",
    "    sum = 0\n",
    "    while(m>0):\n",
    "        r = int(m%10)\n",
    "        sum = sum + (r)**2\n",
    "        m = int(m/10)\n",
    "    return sum\n",
    "    \n"
   ]
  },
  {
   "cell_type": "code",
   "execution_count": 15,
   "metadata": {},
   "outputs": [
    {
     "name": "stdout",
     "output_type": "stream",
     "text": [
      "Enter a num : 15\n",
      "15 is not a happy number\n"
     ]
    }
   ],
   "source": [
    "#This code is for checking if num is happy number or not\n",
    "\n",
    "num = int(input(\"Enter a num : \"))\n",
    "res = num\n",
    "while(res!=1 and res!=4):\n",
    "    res = happy(res)\n",
    "    \n",
    "if(res==1):\n",
    "    print(num,\"is a happy number\")\n",
    "else:\n",
    "    print(num,\"is not a happy number\")"
   ]
  },
  {
   "cell_type": "code",
   "execution_count": null,
   "metadata": {},
   "outputs": [],
   "source": []
  },
  {
   "cell_type": "markdown",
   "metadata": {},
   "source": [
    "# 4. Write a Python program to print all happy numbers between 1 and 100?"
   ]
  },
  {
   "cell_type": "code",
   "execution_count": 10,
   "metadata": {},
   "outputs": [],
   "source": [
    "def happy(m):\n",
    "    i = m\n",
    "    sum = 0\n",
    "    while(m>0):\n",
    "        r = int(m%10)\n",
    "        sum = sum + (r)**2\n",
    "        m = int(m/10)\n",
    "    return sum\n",
    "\n"
   ]
  },
  {
   "cell_type": "code",
   "execution_count": 16,
   "metadata": {},
   "outputs": [
    {
     "data": {
      "text/plain": [
       "[1, 7, 10, 13, 19, 23, 28, 31, 32, 44, 49, 68, 70, 79, 82, 86, 91, 94, 97]"
      ]
     },
     "execution_count": 16,
     "metadata": {},
     "output_type": "execute_result"
    }
   ],
   "source": [
    "l = []\n",
    "for i in range(1,100):\n",
    "    res = i\n",
    "    while(i!=1 and i!=4):\n",
    "        i = happy(i)\n",
    "    \n",
    "    if(i==1):\n",
    "        l.append(res)\n",
    "        \n",
    "l"
   ]
  },
  {
   "cell_type": "code",
   "execution_count": null,
   "metadata": {},
   "outputs": [],
   "source": []
  },
  {
   "cell_type": "markdown",
   "metadata": {},
   "source": [
    "# 5. Write a Python program to determine whether the given number is a Harshad Number?"
   ]
  },
  {
   "cell_type": "code",
   "execution_count": 23,
   "metadata": {},
   "outputs": [
    {
     "name": "stdout",
     "output_type": "stream",
     "text": [
      "Enter a number : 21\n",
      "21 is a harshad number\n"
     ]
    }
   ],
   "source": [
    "num = int(input(\"Enter a number : \"))\n",
    "\n",
    "n = num\n",
    "sum = 0\n",
    "while(n>0):\n",
    "    r = n%10\n",
    "    sum = sum + r\n",
    "    n = int(n/10)\n",
    "\n",
    "if(num%sum==0):\n",
    "    print(num,\"is a harshad number\")\n",
    "else:\n",
    "    print(num,\"is not a harshad number\")"
   ]
  },
  {
   "cell_type": "code",
   "execution_count": null,
   "metadata": {},
   "outputs": [],
   "source": []
  },
  {
   "cell_type": "markdown",
   "metadata": {},
   "source": [
    "# 6. Write a Python program to print all pronic numbers between 1 and 100?"
   ]
  },
  {
   "cell_type": "code",
   "execution_count": 26,
   "metadata": {},
   "outputs": [
    {
     "data": {
      "text/plain": [
       "[2,\n",
       " 6,\n",
       " 12,\n",
       " 20,\n",
       " 30,\n",
       " 42,\n",
       " 56,\n",
       " 72,\n",
       " 90,\n",
       " 110,\n",
       " 132,\n",
       " 156,\n",
       " 182,\n",
       " 210,\n",
       " 240,\n",
       " 272,\n",
       " 306,\n",
       " 342,\n",
       " 380,\n",
       " 420,\n",
       " 462,\n",
       " 506,\n",
       " 552,\n",
       " 600,\n",
       " 650,\n",
       " 702,\n",
       " 756,\n",
       " 812,\n",
       " 870,\n",
       " 930,\n",
       " 992,\n",
       " 1056,\n",
       " 1122,\n",
       " 1190,\n",
       " 1260,\n",
       " 1332,\n",
       " 1406,\n",
       " 1482,\n",
       " 1560,\n",
       " 1640,\n",
       " 1722,\n",
       " 1806,\n",
       " 1892,\n",
       " 1980,\n",
       " 2070,\n",
       " 2162,\n",
       " 2256,\n",
       " 2352,\n",
       " 2450,\n",
       " 2550,\n",
       " 2652,\n",
       " 2756,\n",
       " 2862,\n",
       " 2970,\n",
       " 3080,\n",
       " 3192,\n",
       " 3306,\n",
       " 3422,\n",
       " 3540,\n",
       " 3660,\n",
       " 3782,\n",
       " 3906,\n",
       " 4032,\n",
       " 4160,\n",
       " 4290,\n",
       " 4422,\n",
       " 4556,\n",
       " 4692,\n",
       " 4830,\n",
       " 4970,\n",
       " 5112,\n",
       " 5256,\n",
       " 5402,\n",
       " 5550,\n",
       " 5700,\n",
       " 5852,\n",
       " 6006,\n",
       " 6162,\n",
       " 6320,\n",
       " 6480,\n",
       " 6642,\n",
       " 6806,\n",
       " 6972,\n",
       " 7140,\n",
       " 7310,\n",
       " 7482,\n",
       " 7656,\n",
       " 7832,\n",
       " 8010,\n",
       " 8190,\n",
       " 8372,\n",
       " 8556,\n",
       " 8742,\n",
       " 8930,\n",
       " 9120,\n",
       " 9312,\n",
       " 9506,\n",
       " 9702,\n",
       " 9900]"
      ]
     },
     "execution_count": 26,
     "metadata": {},
     "output_type": "execute_result"
    }
   ],
   "source": [
    "l = []\n",
    "for i in range(1,100):\n",
    "    a = i*(i+1)\n",
    "    l.append(a)\n",
    "l"
   ]
  },
  {
   "cell_type": "code",
   "execution_count": null,
   "metadata": {},
   "outputs": [],
   "source": []
  }
 ],
 "metadata": {
  "kernelspec": {
   "display_name": "Python 3",
   "language": "python",
   "name": "python3"
  },
  "language_info": {
   "codemirror_mode": {
    "name": "ipython",
    "version": 3
   },
   "file_extension": ".py",
   "mimetype": "text/x-python",
   "name": "python",
   "nbconvert_exporter": "python",
   "pygments_lexer": "ipython3",
   "version": "3.7.1"
  }
 },
 "nbformat": 4,
 "nbformat_minor": 2
}
